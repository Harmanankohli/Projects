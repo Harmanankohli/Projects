{
 "cells": [
  {
   "cell_type": "markdown",
   "id": "d53d15c6",
   "metadata": {},
   "source": [
    "## Group No -> 23\n",
    "    \n",
    "## Group Member Details:\n",
    "| Sr.No | Student Name | Student ID |\n",
    "| --- | --- | --- |\n",
    "| 1 | HARMANAN GURVINDER KOHLI | 2021SC04823 |\n",
    "| 2 | SURVE BHAKTI PRAKASH SMITA |2021SC04075 |\n",
    "| 3 | TRIVEDI TEJAS ATUL KAPILA | 2021SC04267 |\n",
    "| 4 | SUNRIT PAL | 2021SC04088 |"
   ]
  },
  {
   "cell_type": "markdown",
   "id": "HRfDbhnzX5vN",
   "metadata": {
    "id": "HRfDbhnzX5vN"
   },
   "source": [
    "### Importing Libraries"
   ]
  },
  {
   "cell_type": "code",
   "execution_count": 1,
   "id": "cf6e4162",
   "metadata": {
    "executionInfo": {
     "elapsed": 5647,
     "status": "ok",
     "timestamp": 1688831469899,
     "user": {
      "displayName": "Harmanan Kohli",
      "userId": "00265911693355803981"
     },
     "user_tz": -330
    },
    "id": "cf6e4162"
   },
   "outputs": [],
   "source": [
    "import re\n",
    "import numpy as np\n",
    "import pandas as pd\n",
    "import tensorflow as tf   # we have used tensorflow==2.10.0\n",
    "import random\n",
    "from sklearn.preprocessing import OneHotEncoder\n",
    "import matplotlib.pyplot as plt\n",
    "from tensorflow.keras.models import Sequential\n",
    "from tensorflow.keras.layers import Dense, Dropout, LSTM\n",
    "from tensorflow.keras.utils import to_categorical"
   ]
  },
  {
   "cell_type": "code",
   "execution_count": 2,
   "id": "3a386233",
   "metadata": {
    "executionInfo": {
     "elapsed": 8,
     "status": "ok",
     "timestamp": 1688831469900,
     "user": {
      "displayName": "Harmanan Kohli",
      "userId": "00265911693355803981"
     },
     "user_tz": -330
    },
    "id": "3a386233"
   },
   "outputs": [],
   "source": [
    "# Setting the seeds so that the results are reproducible\n",
    "random.seed(42)\n",
    "np.random.seed(42)"
   ]
  },
  {
   "cell_type": "code",
   "execution_count": 3,
   "id": "pIwn3f5oF7x3",
   "metadata": {
    "colab": {
     "base_uri": "https://localhost:8080/"
    },
    "executionInfo": {
     "elapsed": 23716,
     "status": "ok",
     "timestamp": 1688831493611,
     "user": {
      "displayName": "Harmanan Kohli",
      "userId": "00265911693355803981"
     },
     "user_tz": -330
    },
    "id": "pIwn3f5oF7x3",
    "outputId": "d8b92f48-d696-4344-f531-70dbe5ad8de7"
   },
   "outputs": [
    {
     "name": "stdout",
     "output_type": "stream",
     "text": [
      "Mounted at /content/drive\n"
     ]
    }
   ],
   "source": [
    "from google.colab import drive\n",
    "drive.mount('/content/drive')"
   ]
  },
  {
   "cell_type": "markdown",
   "id": "9LCPPVnGbXo9",
   "metadata": {
    "id": "9LCPPVnGbXo9"
   },
   "source": [
    "Colab was used for all the tasks performed in this jupyter notebook. Hence mounting the drive for reading the data"
   ]
  },
  {
   "cell_type": "markdown",
   "id": "BOK84sLgYGSP",
   "metadata": {
    "id": "BOK84sLgYGSP"
   },
   "source": [
    "### Loading the data"
   ]
  },
  {
   "cell_type": "markdown",
   "id": "zWMnkblu80Mg",
   "metadata": {
    "id": "zWMnkblu80Mg"
   },
   "source": [
    "Loading the data file and using '\\t' as the delimiter"
   ]
  },
  {
   "cell_type": "code",
   "execution_count": 4,
   "id": "77b62f68",
   "metadata": {
    "colab": {
     "base_uri": "https://localhost:8080/",
     "height": 206
    },
    "executionInfo": {
     "elapsed": 5334,
     "status": "ok",
     "timestamp": 1688831498942,
     "user": {
      "displayName": "Harmanan Kohli",
      "userId": "00265911693355803981"
     },
     "user_tz": -330
    },
    "id": "77b62f68",
    "outputId": "471dcfa2-2220-4dfd-e5ba-3e2a7a2d6842"
   },
   "outputs": [
    {
     "data": {
      "text/html": [
       "\n",
       "  <div id=\"df-492d9bb5-11a2-4cb4-bf71-f5c573111e42\">\n",
       "    <div class=\"colab-df-container\">\n",
       "      <div>\n",
       "<style scoped>\n",
       "    .dataframe tbody tr th:only-of-type {\n",
       "        vertical-align: middle;\n",
       "    }\n",
       "\n",
       "    .dataframe tbody tr th {\n",
       "        vertical-align: top;\n",
       "    }\n",
       "\n",
       "    .dataframe thead th {\n",
       "        text-align: right;\n",
       "    }\n",
       "</style>\n",
       "<table border=\"1\" class=\"dataframe\">\n",
       "  <thead>\n",
       "    <tr style=\"text-align: right;\">\n",
       "      <th></th>\n",
       "      <th>song_id</th>\n",
       "      <th>lyrics</th>\n",
       "    </tr>\n",
       "  </thead>\n",
       "  <tbody>\n",
       "    <tr>\n",
       "      <th>0</th>\n",
       "      <td>3e9HZxeyfWwjeyPAMmWSSQ</td>\n",
       "      <td>['[Verse 1]\\nThought I\\'d end up with Sean\\nBu...</td>\n",
       "    </tr>\n",
       "    <tr>\n",
       "      <th>1</th>\n",
       "      <td>5p7ujcrUXASCNwRaWNHR1C</td>\n",
       "      <td>[\"[Verse 1]\\nFound you when your heart was bro...</td>\n",
       "    </tr>\n",
       "    <tr>\n",
       "      <th>2</th>\n",
       "      <td>2xLMifQCjDGFmkHkpNLD9h</td>\n",
       "      <td>['[Part I]\\n\\n[Intro: Drake]\\nAstro, yeah\\nSun...</td>\n",
       "    </tr>\n",
       "    <tr>\n",
       "      <th>3</th>\n",
       "      <td>3KkXRkHbMCARz0aVfEt68P</td>\n",
       "      <td>NaN</td>\n",
       "    </tr>\n",
       "    <tr>\n",
       "      <th>4</th>\n",
       "      <td>1rqqCSm0Qe4I9rUvWncaom</td>\n",
       "      <td>[\"[Intro]\\nHigh, high hopes\\n\\n[Chorus]\\nHad t...</td>\n",
       "    </tr>\n",
       "  </tbody>\n",
       "</table>\n",
       "</div>\n",
       "      <button class=\"colab-df-convert\" onclick=\"convertToInteractive('df-492d9bb5-11a2-4cb4-bf71-f5c573111e42')\"\n",
       "              title=\"Convert this dataframe to an interactive table.\"\n",
       "              style=\"display:none;\">\n",
       "        \n",
       "  <svg xmlns=\"http://www.w3.org/2000/svg\" height=\"24px\"viewBox=\"0 0 24 24\"\n",
       "       width=\"24px\">\n",
       "    <path d=\"M0 0h24v24H0V0z\" fill=\"none\"/>\n",
       "    <path d=\"M18.56 5.44l.94 2.06.94-2.06 2.06-.94-2.06-.94-.94-2.06-.94 2.06-2.06.94zm-11 1L8.5 8.5l.94-2.06 2.06-.94-2.06-.94L8.5 2.5l-.94 2.06-2.06.94zm10 10l.94 2.06.94-2.06 2.06-.94-2.06-.94-.94-2.06-.94 2.06-2.06.94z\"/><path d=\"M17.41 7.96l-1.37-1.37c-.4-.4-.92-.59-1.43-.59-.52 0-1.04.2-1.43.59L10.3 9.45l-7.72 7.72c-.78.78-.78 2.05 0 2.83L4 21.41c.39.39.9.59 1.41.59.51 0 1.02-.2 1.41-.59l7.78-7.78 2.81-2.81c.8-.78.8-2.07 0-2.86zM5.41 20L4 18.59l7.72-7.72 1.47 1.35L5.41 20z\"/>\n",
       "  </svg>\n",
       "      </button>\n",
       "      \n",
       "  <style>\n",
       "    .colab-df-container {\n",
       "      display:flex;\n",
       "      flex-wrap:wrap;\n",
       "      gap: 12px;\n",
       "    }\n",
       "\n",
       "    .colab-df-convert {\n",
       "      background-color: #E8F0FE;\n",
       "      border: none;\n",
       "      border-radius: 50%;\n",
       "      cursor: pointer;\n",
       "      display: none;\n",
       "      fill: #1967D2;\n",
       "      height: 32px;\n",
       "      padding: 0 0 0 0;\n",
       "      width: 32px;\n",
       "    }\n",
       "\n",
       "    .colab-df-convert:hover {\n",
       "      background-color: #E2EBFA;\n",
       "      box-shadow: 0px 1px 2px rgba(60, 64, 67, 0.3), 0px 1px 3px 1px rgba(60, 64, 67, 0.15);\n",
       "      fill: #174EA6;\n",
       "    }\n",
       "\n",
       "    [theme=dark] .colab-df-convert {\n",
       "      background-color: #3B4455;\n",
       "      fill: #D2E3FC;\n",
       "    }\n",
       "\n",
       "    [theme=dark] .colab-df-convert:hover {\n",
       "      background-color: #434B5C;\n",
       "      box-shadow: 0px 1px 3px 1px rgba(0, 0, 0, 0.15);\n",
       "      filter: drop-shadow(0px 1px 2px rgba(0, 0, 0, 0.3));\n",
       "      fill: #FFFFFF;\n",
       "    }\n",
       "  </style>\n",
       "\n",
       "      <script>\n",
       "        const buttonEl =\n",
       "          document.querySelector('#df-492d9bb5-11a2-4cb4-bf71-f5c573111e42 button.colab-df-convert');\n",
       "        buttonEl.style.display =\n",
       "          google.colab.kernel.accessAllowed ? 'block' : 'none';\n",
       "\n",
       "        async function convertToInteractive(key) {\n",
       "          const element = document.querySelector('#df-492d9bb5-11a2-4cb4-bf71-f5c573111e42');\n",
       "          const dataTable =\n",
       "            await google.colab.kernel.invokeFunction('convertToInteractive',\n",
       "                                                     [key], {});\n",
       "          if (!dataTable) return;\n",
       "\n",
       "          const docLinkHtml = 'Like what you see? Visit the ' +\n",
       "            '<a target=\"_blank\" href=https://colab.research.google.com/notebooks/data_table.ipynb>data table notebook</a>'\n",
       "            + ' to learn more about interactive tables.';\n",
       "          element.innerHTML = '';\n",
       "          dataTable['output_type'] = 'display_data';\n",
       "          await google.colab.output.renderOutput(dataTable, element);\n",
       "          const docLink = document.createElement('div');\n",
       "          docLink.innerHTML = docLinkHtml;\n",
       "          element.appendChild(docLink);\n",
       "        }\n",
       "      </script>\n",
       "    </div>\n",
       "  </div>\n",
       "  "
      ],
      "text/plain": [
       "                  song_id                                             lyrics\n",
       "0  3e9HZxeyfWwjeyPAMmWSSQ  ['[Verse 1]\\nThought I\\'d end up with Sean\\nBu...\n",
       "1  5p7ujcrUXASCNwRaWNHR1C  [\"[Verse 1]\\nFound you when your heart was bro...\n",
       "2  2xLMifQCjDGFmkHkpNLD9h  ['[Part I]\\n\\n[Intro: Drake]\\nAstro, yeah\\nSun...\n",
       "3  3KkXRkHbMCARz0aVfEt68P                                                NaN\n",
       "4  1rqqCSm0Qe4I9rUvWncaom  [\"[Intro]\\nHigh, high hopes\\n\\n[Chorus]\\nHad t..."
      ]
     },
     "execution_count": 4,
     "metadata": {},
     "output_type": "execute_result"
    }
   ],
   "source": [
    "df = pd.read_csv(\"/content/drive/MyDrive/Colab Notebooks/NLP/lyrics.csv\",  sep='\\t')\n",
    "df.head()"
   ]
  },
  {
   "cell_type": "markdown",
   "id": "iReNARE4YKTx",
   "metadata": {
    "id": "iReNARE4YKTx"
   },
   "source": [
    "### Removing the null values"
   ]
  },
  {
   "cell_type": "code",
   "execution_count": 5,
   "id": "f2726526",
   "metadata": {
    "colab": {
     "base_uri": "https://localhost:8080/"
    },
    "executionInfo": {
     "elapsed": 9,
     "status": "ok",
     "timestamp": 1688831498942,
     "user": {
      "displayName": "Harmanan Kohli",
      "userId": "00265911693355803981"
     },
     "user_tz": -330
    },
    "id": "f2726526",
    "outputId": "6f7c59c6-7b61-4473-a3d7-a0e572954b81"
   },
   "outputs": [
    {
     "data": {
      "text/plain": [
       "(20404, 2)"
      ]
     },
     "execution_count": 5,
     "metadata": {},
     "output_type": "execute_result"
    }
   ],
   "source": [
    "# checking the shape of dataset\n",
    "df.shape"
   ]
  },
  {
   "cell_type": "code",
   "execution_count": 6,
   "id": "980fff40",
   "metadata": {
    "colab": {
     "base_uri": "https://localhost:8080/"
    },
    "executionInfo": {
     "elapsed": 9,
     "status": "ok",
     "timestamp": 1688831498943,
     "user": {
      "displayName": "Harmanan Kohli",
      "userId": "00265911693355803981"
     },
     "user_tz": -330
    },
    "id": "980fff40",
    "outputId": "01a7f644-d0ba-41ed-b9bb-4e78537bb5d8"
   },
   "outputs": [
    {
     "data": {
      "text/plain": [
       "song_id      0\n",
       "lyrics     741\n",
       "dtype: int64"
      ]
     },
     "execution_count": 6,
     "metadata": {},
     "output_type": "execute_result"
    }
   ],
   "source": [
    "# checking if any null values are present in the dataset\n",
    "df.isnull().sum()"
   ]
  },
  {
   "cell_type": "code",
   "execution_count": 7,
   "id": "bfac5911",
   "metadata": {
    "colab": {
     "base_uri": "https://localhost:8080/"
    },
    "executionInfo": {
     "elapsed": 8,
     "status": "ok",
     "timestamp": 1688831498943,
     "user": {
      "displayName": "Harmanan Kohli",
      "userId": "00265911693355803981"
     },
     "user_tz": -330
    },
    "id": "bfac5911",
    "outputId": "2a8271f1-4522-472d-f699-1b148be68db2"
   },
   "outputs": [
    {
     "data": {
      "text/plain": [
       "(19663, 2)"
      ]
     },
     "execution_count": 7,
     "metadata": {},
     "output_type": "execute_result"
    }
   ],
   "source": [
    "# drop null values from the current dataframe\n",
    "df.dropna(inplace = True)\n",
    "df.shape"
   ]
  },
  {
   "cell_type": "markdown",
   "id": "p8lz8rEPb6Ht",
   "metadata": {
    "id": "p8lz8rEPb6Ht"
   },
   "source": [
    "All the null values have been removed from the dataset"
   ]
  },
  {
   "cell_type": "code",
   "execution_count": 8,
   "id": "A9BJogWWcTrd",
   "metadata": {
    "colab": {
     "base_uri": "https://localhost:8080/"
    },
    "executionInfo": {
     "elapsed": 748,
     "status": "ok",
     "timestamp": 1688831499683,
     "user": {
      "displayName": "Harmanan Kohli",
      "userId": "00265911693355803981"
     },
     "user_tz": -330
    },
    "id": "A9BJogWWcTrd",
    "outputId": "be21894c-60a3-40d9-acc9-ef2acc891e57"
   },
   "outputs": [
    {
     "data": {
      "text/plain": [
       "0"
      ]
     },
     "execution_count": 8,
     "metadata": {},
     "output_type": "execute_result"
    }
   ],
   "source": [
    "df.duplicated().sum()"
   ]
  },
  {
   "cell_type": "markdown",
   "id": "HEjBwNjueohF",
   "metadata": {
    "id": "HEjBwNjueohF"
   },
   "source": [
    "As you can see we have no duplicates"
   ]
  },
  {
   "cell_type": "markdown",
   "id": "eMlhvJo_YTuS",
   "metadata": {
    "id": "eMlhvJo_YTuS"
   },
   "source": [
    "### Data Preprocessing"
   ]
  },
  {
   "cell_type": "markdown",
   "id": "SEM4biCAccGZ",
   "metadata": {
    "id": "SEM4biCAccGZ"
   },
   "source": [
    "Data is a stringified list which has meta labeling in the form of a text between tags."
   ]
  },
  {
   "cell_type": "code",
   "execution_count": 9,
   "id": "7e6796cd",
   "metadata": {
    "colab": {
     "base_uri": "https://localhost:8080/",
     "height": 123
    },
    "executionInfo": {
     "elapsed": 9,
     "status": "ok",
     "timestamp": 1688831499683,
     "user": {
      "displayName": "Harmanan Kohli",
      "userId": "00265911693355803981"
     },
     "user_tz": -330
    },
    "id": "7e6796cd",
    "outputId": "1a0fa0eb-296b-4f97-9f07-e15733f02795"
   },
   "outputs": [
    {
     "data": {
      "application/vnd.google.colaboratory.intrinsic+json": {
       "type": "string"
      },
      "text/plain": [
       "'[\\'[Verse 1]\\\\nThought I\\\\\\'d end up with Sean\\\\nBut he wasn\\\\\\'t a match\\\\nWrote some songs about Ricky\\\\nNow I listen and laugh\\\\nEven almost got married\\\\nAnd for Pete, I\\\\\\'m so thankful\\\\nWish I could say, \"Thank you\" to Malcolm\\\\n\\\\\\'Cause he was an angel\\\\n\\\\n[Pre-Chorus]\\\\nOne taught me love\\\\nOne taught me patience\\\\nAnd one taught me pain\\\\nNow, I\\\\\\'m so amazing\\\\nSay I\\\\\\'ve loved and I\\\\\\'ve lost\\\\nBut that\\\\\\'s not what I see\\\\nSo, look what I got\\\\nLook what you taught me\\\\nAnd for that, I say\\\\n\\\\n[Chorus]\\\\nThank you, next (Next)\\\\nThank you, next (Next)\\\\nThank you, next\\\\nI\\\\\\'m so fuckin\\\\\\' grateful for my ex\\\\nThank you, next (Next)\\\\nThank you, next (Next)\\\\nThank you, next (Next)\\\\nI\\\\\\'m so fuckin\\\\\\'—\\\\n\\\\n[Verse 2]\\\\nSpend more time with my friends\\\\nI ain\\\\\\'t worried \\\\\\'bout nothin\\\\\\'\\\\nPlus, I met someone else\\\\nWe havin\\\\\\' better discussions\\\\nI know they say I move on too fast\\\\nBut this one gon\\\\\\' last\\\\n\\\\\\'Cause her name is Ari\\\\nAnd I\\\\\\'m so good with that (So good with that)\\\\n\\\\n[Pre-Chorus]\\\\nShe taught me love (Love)\\\\nShe taught me patience (Patience)\\\\nHow she handles pain (Pain)\\\\nThat shit\\\\\\'s amazing (Yeah, she\\\\\\'s amazing)\\\\nI\\\\\\'ve loved and I\\\\\\'ve lost (Yeah, yeah)\\\\nBut that\\\\\\'s not what I see (Yeah, yeah)\\\\n\\\\\\'Cause look what I\\\\\\'ve found (Yeah, yeah)\\\\nAin\\\\\\'t no need for searching, and for that, I say\\\\n\\\\n[Chorus]\\\\nThank you, next (Thank you, next)\\\\nThank you, next (Thank you, next)\\\\nThank you, next (Thank you)\\\\nI\\\\\\'m so fuckin\\\\\\' grateful for my ex\\\\nThank you, next (Thank you, next)\\\\nThank you, next (Said thank you, next)\\\\nThank you, next (Next)\\\\nI\\\\\\'m so fuckin\\\\\\' grateful for my ex\\\\n\\\\n[Post-Chorus]\\\\nThank you, next\\\\nThank you, next\\\\nThank you, next\\\\nI\\\\\\'m so fuckin\\\\\\'—\\\\n\\\\n[Bridge]\\\\nOne day I\\\\\\'ll walk down the aisle\\\\nHolding hands with my mama\\\\nI\\\\\\'ll be thanking my dad\\\\n\\\\\\'Cause she grew from the drama\\\\nOnly wanna do it once, real bad\\\\nGon\\\\\\' make that shit last\\\\nGod forbid something happens\\\\nLeast this song is a smash (Song is a smash)\\\\n\\\\n[Pre-Chorus]\\\\nI\\\\\\'ve got so much love (Love)\\\\nGot so much patience (Patience)\\\\nI\\\\\\'ve learned from the pain (Pain)\\\\nI turned out amazing (Turned out amazing)\\\\nSay I\\\\\\'ve loved and I\\\\\\'ve lost (Yeah, yeah)\\\\nBut that\\\\\\'s not what I see (Yeah, yeah)\\\\n\\\\\\'Cause look what I\\\\\\'ve found (Yeah, yeah)\\\\nAin\\\\\\'t no need for searching\\\\nAnd for that, I say\\\\n\\\\n[Chorus]\\\\nThank you, next (Thank you, next)\\\\nThank you, next (Thank you, next)\\\\nThank you, next\\\\nI\\\\\\'m so fuckin\\\\\\' grateful for my ex\\\\nThank you, next (Thank you, next)\\\\nThank you, next (Said thank you, next)\\\\nThank you, next (Next)\\\\nI\\\\\\'m so fuckin\\\\\\' grateful for my ex\\\\n\\\\n[Post-Chorus]\\\\nThank you, next\\\\nThank you, next\\\\nThank you, next\\\\nYeah, yee\\\\nThank you, next\\\\nThank you, next\\\\nThank you, next\\\\nYeah, yee\\']'"
      ]
     },
     "execution_count": 9,
     "metadata": {},
     "output_type": "execute_result"
    }
   ],
   "source": [
    "df['lyrics'][0]"
   ]
  },
  {
   "cell_type": "markdown",
   "id": "dTY6t1tadJHN",
   "metadata": {
    "id": "dTY6t1tadJHN"
   },
   "source": [
    "Let's start by removing the outer brackets"
   ]
  },
  {
   "cell_type": "code",
   "execution_count": 10,
   "id": "8b27f7e2",
   "metadata": {
    "colab": {
     "base_uri": "https://localhost:8080/",
     "height": 206
    },
    "executionInfo": {
     "elapsed": 10,
     "status": "ok",
     "timestamp": 1688831499684,
     "user": {
      "displayName": "Harmanan Kohli",
      "userId": "00265911693355803981"
     },
     "user_tz": -330
    },
    "id": "8b27f7e2",
    "outputId": "f495487e-2f91-4e2f-eea2-8fcdaa727d8a"
   },
   "outputs": [
    {
     "data": {
      "text/html": [
       "\n",
       "  <div id=\"df-f46bc30f-e6f6-4ce9-a701-fb855eeadb6a\">\n",
       "    <div class=\"colab-df-container\">\n",
       "      <div>\n",
       "<style scoped>\n",
       "    .dataframe tbody tr th:only-of-type {\n",
       "        vertical-align: middle;\n",
       "    }\n",
       "\n",
       "    .dataframe tbody tr th {\n",
       "        vertical-align: top;\n",
       "    }\n",
       "\n",
       "    .dataframe thead th {\n",
       "        text-align: right;\n",
       "    }\n",
       "</style>\n",
       "<table border=\"1\" class=\"dataframe\">\n",
       "  <thead>\n",
       "    <tr style=\"text-align: right;\">\n",
       "      <th></th>\n",
       "      <th>song_id</th>\n",
       "      <th>lyrics</th>\n",
       "    </tr>\n",
       "  </thead>\n",
       "  <tbody>\n",
       "    <tr>\n",
       "      <th>0</th>\n",
       "      <td>3e9HZxeyfWwjeyPAMmWSSQ</td>\n",
       "      <td>[Verse 1]\\nThought I\\'d end up with Sean\\nBut ...</td>\n",
       "    </tr>\n",
       "    <tr>\n",
       "      <th>1</th>\n",
       "      <td>5p7ujcrUXASCNwRaWNHR1C</td>\n",
       "      <td>[Verse 1]\\nFound you when your heart was broke...</td>\n",
       "    </tr>\n",
       "    <tr>\n",
       "      <th>2</th>\n",
       "      <td>2xLMifQCjDGFmkHkpNLD9h</td>\n",
       "      <td>[Part I]\\n\\n[Intro: Drake]\\nAstro, yeah\\nSun i...</td>\n",
       "    </tr>\n",
       "    <tr>\n",
       "      <th>4</th>\n",
       "      <td>1rqqCSm0Qe4I9rUvWncaom</td>\n",
       "      <td>[Intro]\\nHigh, high hopes\\n\\n[Chorus]\\nHad to ...</td>\n",
       "    </tr>\n",
       "    <tr>\n",
       "      <th>5</th>\n",
       "      <td>0bYg9bo50gSsH3LtXe2SQn</td>\n",
       "      <td>[Intro]\\nI-I-I don't want a lot for Christmas\\...</td>\n",
       "    </tr>\n",
       "  </tbody>\n",
       "</table>\n",
       "</div>\n",
       "      <button class=\"colab-df-convert\" onclick=\"convertToInteractive('df-f46bc30f-e6f6-4ce9-a701-fb855eeadb6a')\"\n",
       "              title=\"Convert this dataframe to an interactive table.\"\n",
       "              style=\"display:none;\">\n",
       "        \n",
       "  <svg xmlns=\"http://www.w3.org/2000/svg\" height=\"24px\"viewBox=\"0 0 24 24\"\n",
       "       width=\"24px\">\n",
       "    <path d=\"M0 0h24v24H0V0z\" fill=\"none\"/>\n",
       "    <path d=\"M18.56 5.44l.94 2.06.94-2.06 2.06-.94-2.06-.94-.94-2.06-.94 2.06-2.06.94zm-11 1L8.5 8.5l.94-2.06 2.06-.94-2.06-.94L8.5 2.5l-.94 2.06-2.06.94zm10 10l.94 2.06.94-2.06 2.06-.94-2.06-.94-.94-2.06-.94 2.06-2.06.94z\"/><path d=\"M17.41 7.96l-1.37-1.37c-.4-.4-.92-.59-1.43-.59-.52 0-1.04.2-1.43.59L10.3 9.45l-7.72 7.72c-.78.78-.78 2.05 0 2.83L4 21.41c.39.39.9.59 1.41.59.51 0 1.02-.2 1.41-.59l7.78-7.78 2.81-2.81c.8-.78.8-2.07 0-2.86zM5.41 20L4 18.59l7.72-7.72 1.47 1.35L5.41 20z\"/>\n",
       "  </svg>\n",
       "      </button>\n",
       "      \n",
       "  <style>\n",
       "    .colab-df-container {\n",
       "      display:flex;\n",
       "      flex-wrap:wrap;\n",
       "      gap: 12px;\n",
       "    }\n",
       "\n",
       "    .colab-df-convert {\n",
       "      background-color: #E8F0FE;\n",
       "      border: none;\n",
       "      border-radius: 50%;\n",
       "      cursor: pointer;\n",
       "      display: none;\n",
       "      fill: #1967D2;\n",
       "      height: 32px;\n",
       "      padding: 0 0 0 0;\n",
       "      width: 32px;\n",
       "    }\n",
       "\n",
       "    .colab-df-convert:hover {\n",
       "      background-color: #E2EBFA;\n",
       "      box-shadow: 0px 1px 2px rgba(60, 64, 67, 0.3), 0px 1px 3px 1px rgba(60, 64, 67, 0.15);\n",
       "      fill: #174EA6;\n",
       "    }\n",
       "\n",
       "    [theme=dark] .colab-df-convert {\n",
       "      background-color: #3B4455;\n",
       "      fill: #D2E3FC;\n",
       "    }\n",
       "\n",
       "    [theme=dark] .colab-df-convert:hover {\n",
       "      background-color: #434B5C;\n",
       "      box-shadow: 0px 1px 3px 1px rgba(0, 0, 0, 0.15);\n",
       "      filter: drop-shadow(0px 1px 2px rgba(0, 0, 0, 0.3));\n",
       "      fill: #FFFFFF;\n",
       "    }\n",
       "  </style>\n",
       "\n",
       "      <script>\n",
       "        const buttonEl =\n",
       "          document.querySelector('#df-f46bc30f-e6f6-4ce9-a701-fb855eeadb6a button.colab-df-convert');\n",
       "        buttonEl.style.display =\n",
       "          google.colab.kernel.accessAllowed ? 'block' : 'none';\n",
       "\n",
       "        async function convertToInteractive(key) {\n",
       "          const element = document.querySelector('#df-f46bc30f-e6f6-4ce9-a701-fb855eeadb6a');\n",
       "          const dataTable =\n",
       "            await google.colab.kernel.invokeFunction('convertToInteractive',\n",
       "                                                     [key], {});\n",
       "          if (!dataTable) return;\n",
       "\n",
       "          const docLinkHtml = 'Like what you see? Visit the ' +\n",
       "            '<a target=\"_blank\" href=https://colab.research.google.com/notebooks/data_table.ipynb>data table notebook</a>'\n",
       "            + ' to learn more about interactive tables.';\n",
       "          element.innerHTML = '';\n",
       "          dataTable['output_type'] = 'display_data';\n",
       "          await google.colab.output.renderOutput(dataTable, element);\n",
       "          const docLink = document.createElement('div');\n",
       "          docLink.innerHTML = docLinkHtml;\n",
       "          element.appendChild(docLink);\n",
       "        }\n",
       "      </script>\n",
       "    </div>\n",
       "  </div>\n",
       "  "
      ],
      "text/plain": [
       "                  song_id                                             lyrics\n",
       "0  3e9HZxeyfWwjeyPAMmWSSQ  [Verse 1]\\nThought I\\'d end up with Sean\\nBut ...\n",
       "1  5p7ujcrUXASCNwRaWNHR1C  [Verse 1]\\nFound you when your heart was broke...\n",
       "2  2xLMifQCjDGFmkHkpNLD9h  [Part I]\\n\\n[Intro: Drake]\\nAstro, yeah\\nSun i...\n",
       "4  1rqqCSm0Qe4I9rUvWncaom  [Intro]\\nHigh, high hopes\\n\\n[Chorus]\\nHad to ...\n",
       "5  0bYg9bo50gSsH3LtXe2SQn  [Intro]\\nI-I-I don't want a lot for Christmas\\..."
      ]
     },
     "execution_count": 10,
     "metadata": {},
     "output_type": "execute_result"
    }
   ],
   "source": [
    "def remove_brackets(x):\n",
    "    \"\"\"function removes the outer brackets from the text\"\"\"\n",
    "    m = []\n",
    "    # for each row in the dataset\n",
    "    for i in x:\n",
    "      # removing the outer brackets\n",
    "        m.append(str(i[2:-2]))\n",
    "    # returning the output\n",
    "    return m\n",
    "df['lyrics'] = remove_brackets(df['lyrics'])\n",
    "df.head()"
   ]
  },
  {
   "cell_type": "markdown",
   "id": "843yms_WdQcN",
   "metadata": {
    "id": "843yms_WdQcN"
   },
   "source": [
    "We can see that the outer brackets have been removed. Now we change the text to lower case, remove extra spaces, unwanted brackets and special characters. Meta-labels inside the square brackets are removed using regular expression."
   ]
  },
  {
   "cell_type": "code",
   "execution_count": 11,
   "id": "a01c0bff",
   "metadata": {
    "colab": {
     "base_uri": "https://localhost:8080/",
     "height": 206
    },
    "executionInfo": {
     "elapsed": 23434,
     "status": "ok",
     "timestamp": 1688831523109,
     "user": {
      "displayName": "Harmanan Kohli",
      "userId": "00265911693355803981"
     },
     "user_tz": -330
    },
    "id": "a01c0bff",
    "outputId": "0ceedb7a-255a-44a5-9312-0eef3d2ff0c5"
   },
   "outputs": [
    {
     "data": {
      "text/html": [
       "\n",
       "  <div id=\"df-a28708b8-75a6-4a6b-99ea-ce9871aed029\">\n",
       "    <div class=\"colab-df-container\">\n",
       "      <div>\n",
       "<style scoped>\n",
       "    .dataframe tbody tr th:only-of-type {\n",
       "        vertical-align: middle;\n",
       "    }\n",
       "\n",
       "    .dataframe tbody tr th {\n",
       "        vertical-align: top;\n",
       "    }\n",
       "\n",
       "    .dataframe thead th {\n",
       "        text-align: right;\n",
       "    }\n",
       "</style>\n",
       "<table border=\"1\" class=\"dataframe\">\n",
       "  <thead>\n",
       "    <tr style=\"text-align: right;\">\n",
       "      <th></th>\n",
       "      <th>song_id</th>\n",
       "      <th>lyrics</th>\n",
       "      <th>cleaned_text</th>\n",
       "    </tr>\n",
       "  </thead>\n",
       "  <tbody>\n",
       "    <tr>\n",
       "      <th>0</th>\n",
       "      <td>3e9HZxeyfWwjeyPAMmWSSQ</td>\n",
       "      <td>[Verse 1]\\nThought I\\'d end up with Sean\\nBut ...</td>\n",
       "      <td>thought i 'd end up with sean but he wasn 't a...</td>\n",
       "    </tr>\n",
       "    <tr>\n",
       "      <th>1</th>\n",
       "      <td>5p7ujcrUXASCNwRaWNHR1C</td>\n",
       "      <td>[Verse 1]\\nFound you when your heart was broke...</td>\n",
       "      <td>found you when your heart was broke i filled y...</td>\n",
       "    </tr>\n",
       "    <tr>\n",
       "      <th>2</th>\n",
       "      <td>2xLMifQCjDGFmkHkpNLD9h</td>\n",
       "      <td>[Part I]\\n\\n[Intro: Drake]\\nAstro, yeah\\nSun i...</td>\n",
       "      <td>astro yeah sun is down freezin ' cold that 's ...</td>\n",
       "    </tr>\n",
       "    <tr>\n",
       "      <th>4</th>\n",
       "      <td>1rqqCSm0Qe4I9rUvWncaom</td>\n",
       "      <td>[Intro]\\nHigh, high hopes\\n\\n[Chorus]\\nHad to ...</td>\n",
       "      <td>high high hopes had to have high high hopes fo...</td>\n",
       "    </tr>\n",
       "    <tr>\n",
       "      <th>5</th>\n",
       "      <td>0bYg9bo50gSsH3LtXe2SQn</td>\n",
       "      <td>[Intro]\\nI-I-I don't want a lot for Christmas\\...</td>\n",
       "      <td>i i i don't want a lot for christmas there is ...</td>\n",
       "    </tr>\n",
       "  </tbody>\n",
       "</table>\n",
       "</div>\n",
       "      <button class=\"colab-df-convert\" onclick=\"convertToInteractive('df-a28708b8-75a6-4a6b-99ea-ce9871aed029')\"\n",
       "              title=\"Convert this dataframe to an interactive table.\"\n",
       "              style=\"display:none;\">\n",
       "        \n",
       "  <svg xmlns=\"http://www.w3.org/2000/svg\" height=\"24px\"viewBox=\"0 0 24 24\"\n",
       "       width=\"24px\">\n",
       "    <path d=\"M0 0h24v24H0V0z\" fill=\"none\"/>\n",
       "    <path d=\"M18.56 5.44l.94 2.06.94-2.06 2.06-.94-2.06-.94-.94-2.06-.94 2.06-2.06.94zm-11 1L8.5 8.5l.94-2.06 2.06-.94-2.06-.94L8.5 2.5l-.94 2.06-2.06.94zm10 10l.94 2.06.94-2.06 2.06-.94-2.06-.94-.94-2.06-.94 2.06-2.06.94z\"/><path d=\"M17.41 7.96l-1.37-1.37c-.4-.4-.92-.59-1.43-.59-.52 0-1.04.2-1.43.59L10.3 9.45l-7.72 7.72c-.78.78-.78 2.05 0 2.83L4 21.41c.39.39.9.59 1.41.59.51 0 1.02-.2 1.41-.59l7.78-7.78 2.81-2.81c.8-.78.8-2.07 0-2.86zM5.41 20L4 18.59l7.72-7.72 1.47 1.35L5.41 20z\"/>\n",
       "  </svg>\n",
       "      </button>\n",
       "      \n",
       "  <style>\n",
       "    .colab-df-container {\n",
       "      display:flex;\n",
       "      flex-wrap:wrap;\n",
       "      gap: 12px;\n",
       "    }\n",
       "\n",
       "    .colab-df-convert {\n",
       "      background-color: #E8F0FE;\n",
       "      border: none;\n",
       "      border-radius: 50%;\n",
       "      cursor: pointer;\n",
       "      display: none;\n",
       "      fill: #1967D2;\n",
       "      height: 32px;\n",
       "      padding: 0 0 0 0;\n",
       "      width: 32px;\n",
       "    }\n",
       "\n",
       "    .colab-df-convert:hover {\n",
       "      background-color: #E2EBFA;\n",
       "      box-shadow: 0px 1px 2px rgba(60, 64, 67, 0.3), 0px 1px 3px 1px rgba(60, 64, 67, 0.15);\n",
       "      fill: #174EA6;\n",
       "    }\n",
       "\n",
       "    [theme=dark] .colab-df-convert {\n",
       "      background-color: #3B4455;\n",
       "      fill: #D2E3FC;\n",
       "    }\n",
       "\n",
       "    [theme=dark] .colab-df-convert:hover {\n",
       "      background-color: #434B5C;\n",
       "      box-shadow: 0px 1px 3px 1px rgba(0, 0, 0, 0.15);\n",
       "      filter: drop-shadow(0px 1px 2px rgba(0, 0, 0, 0.3));\n",
       "      fill: #FFFFFF;\n",
       "    }\n",
       "  </style>\n",
       "\n",
       "      <script>\n",
       "        const buttonEl =\n",
       "          document.querySelector('#df-a28708b8-75a6-4a6b-99ea-ce9871aed029 button.colab-df-convert');\n",
       "        buttonEl.style.display =\n",
       "          google.colab.kernel.accessAllowed ? 'block' : 'none';\n",
       "\n",
       "        async function convertToInteractive(key) {\n",
       "          const element = document.querySelector('#df-a28708b8-75a6-4a6b-99ea-ce9871aed029');\n",
       "          const dataTable =\n",
       "            await google.colab.kernel.invokeFunction('convertToInteractive',\n",
       "                                                     [key], {});\n",
       "          if (!dataTable) return;\n",
       "\n",
       "          const docLinkHtml = 'Like what you see? Visit the ' +\n",
       "            '<a target=\"_blank\" href=https://colab.research.google.com/notebooks/data_table.ipynb>data table notebook</a>'\n",
       "            + ' to learn more about interactive tables.';\n",
       "          element.innerHTML = '';\n",
       "          dataTable['output_type'] = 'display_data';\n",
       "          await google.colab.output.renderOutput(dataTable, element);\n",
       "          const docLink = document.createElement('div');\n",
       "          docLink.innerHTML = docLinkHtml;\n",
       "          element.appendChild(docLink);\n",
       "        }\n",
       "      </script>\n",
       "    </div>\n",
       "  </div>\n",
       "  "
      ],
      "text/plain": [
       "                  song_id                                             lyrics  \\\n",
       "0  3e9HZxeyfWwjeyPAMmWSSQ  [Verse 1]\\nThought I\\'d end up with Sean\\nBut ...   \n",
       "1  5p7ujcrUXASCNwRaWNHR1C  [Verse 1]\\nFound you when your heart was broke...   \n",
       "2  2xLMifQCjDGFmkHkpNLD9h  [Part I]\\n\\n[Intro: Drake]\\nAstro, yeah\\nSun i...   \n",
       "4  1rqqCSm0Qe4I9rUvWncaom  [Intro]\\nHigh, high hopes\\n\\n[Chorus]\\nHad to ...   \n",
       "5  0bYg9bo50gSsH3LtXe2SQn  [Intro]\\nI-I-I don't want a lot for Christmas\\...   \n",
       "\n",
       "                                        cleaned_text  \n",
       "0  thought i 'd end up with sean but he wasn 't a...  \n",
       "1  found you when your heart was broke i filled y...  \n",
       "2  astro yeah sun is down freezin ' cold that 's ...  \n",
       "4  high high hopes had to have high high hopes fo...  \n",
       "5  i i i don't want a lot for christmas there is ...  "
      ]
     },
     "execution_count": 11,
     "metadata": {},
     "output_type": "execute_result"
    }
   ],
   "source": [
    "def preprocessing(text):\n",
    "    \"\"\"function to perform preprocessing on the text\"\"\"\n",
    "    # removing the nextline characters\n",
    "    text = text.replace(\"\\\\n\",\" \")\n",
    "    # making the text consistent by replacing all the characters by their uncapitalized characters\n",
    "    text = text.lower()\n",
    "    # removing all the remaining brackets\n",
    "    text = re.sub(r'\\[.*?\\]',\" \",text)\n",
    "    # removing all special characters except numberd and alphabets\n",
    "    text = re.sub(\"[^a-z0-9'\\.\\n]\",\" \", text)\n",
    "    # removing all the unnecessary spaces\n",
    "    text = re.sub(' +', ' ', text)\n",
    "    # removing the leading or trailing spaces from the text\n",
    "    text = text.strip()\n",
    "    # returning the output\n",
    "    return text\n",
    "\n",
    "df[\"cleaned_text\"] = df[\"lyrics\"].apply(lambda text: preprocessing(text))\n",
    "df.head()"
   ]
  },
  {
   "cell_type": "markdown",
   "id": "-XO_CShfd-t5",
   "metadata": {
    "id": "-XO_CShfd-t5"
   },
   "source": [
    "All the test has been cleaned and added into a new column named **cleaned_text**"
   ]
  },
  {
   "cell_type": "code",
   "execution_count": 12,
   "id": "b6c2450e",
   "metadata": {
    "colab": {
     "base_uri": "https://localhost:8080/",
     "height": 123
    },
    "executionInfo": {
     "elapsed": 15,
     "status": "ok",
     "timestamp": 1688831523110,
     "user": {
      "displayName": "Harmanan Kohli",
      "userId": "00265911693355803981"
     },
     "user_tz": -330
    },
    "id": "b6c2450e",
    "outputId": "8e8fa5bf-71bd-4b15-e57e-d471c7be3e56"
   },
   "outputs": [
    {
     "data": {
      "application/vnd.google.colaboratory.intrinsic+json": {
       "type": "string"
      },
      "text/plain": [
       "\"thought i 'd end up with sean but he wasn 't a match wrote some songs about ricky now i listen and laugh even almost got married and for pete i 'm so thankful wish i could say thank you to malcolm 'cause he was an angel one taught me love one taught me patience and one taught me pain now i 'm so amazing say i 've loved and i 've lost but that 's not what i see so look what i got look what you taught me and for that i say thank you next next thank you next next thank you next i 'm so fuckin ' grateful for my ex thank you next next thank you next next thank you next next i 'm so fuckin ' spend more time with my friends i ain 't worried 'bout nothin ' plus i met someone else we havin ' better discussions i know they say i move on too fast but this one gon ' last 'cause her name is ari and i 'm so good with that so good with that she taught me love love she taught me patience patience how she handles pain pain that shit 's amazing yeah she 's amazing i 've loved and i 've lost yeah yeah but that 's not what i see yeah yeah 'cause look what i 've found yeah yeah ain 't no need for searching and for that i say thank you next thank you next thank you next thank you next thank you next thank you i 'm so fuckin ' grateful for my ex thank you next thank you next thank you next said thank you next thank you next next i 'm so fuckin ' grateful for my ex thank you next thank you next thank you next i 'm so fuckin ' one day i 'll walk down the aisle holding hands with my mama i 'll be thanking my dad 'cause she grew from the drama only wanna do it once real bad gon ' make that shit last god forbid something happens least this song is a smash song is a smash i 've got so much love love got so much patience patience i 've learned from the pain pain i turned out amazing turned out amazing say i 've loved and i 've lost yeah yeah but that 's not what i see yeah yeah 'cause look what i 've found yeah yeah ain 't no need for searching and for that i say thank you next thank you next thank you next thank you next thank you next i 'm so fuckin ' grateful for my ex thank you next thank you next thank you next said thank you next thank you next next i 'm so fuckin ' grateful for my ex thank you next thank you next thank you next yeah yee thank you next thank you next thank you next yeah yee\""
      ]
     },
     "execution_count": 12,
     "metadata": {},
     "output_type": "execute_result"
    }
   ],
   "source": [
    "df[\"cleaned_text\"][0]"
   ]
  },
  {
   "cell_type": "markdown",
   "id": "DByVa07leLvA",
   "metadata": {
    "id": "DByVa07leLvA"
   },
   "source": [
    "We can see from the output post pre-processing that all the un-needed elements have been removed"
   ]
  },
  {
   "cell_type": "markdown",
   "id": "1MWA-zJJDx-g",
   "metadata": {
    "id": "1MWA-zJJDx-g"
   },
   "source": []
  },
  {
   "cell_type": "markdown",
   "id": "T9twQtQuYkfz",
   "metadata": {
    "id": "T9twQtQuYkfz"
   },
   "source": [
    "### Vectorizing the text into numeric form"
   ]
  },
  {
   "cell_type": "code",
   "execution_count": 19,
   "id": "a6552af8",
   "metadata": {
    "executionInfo": {
     "elapsed": 567,
     "status": "ok",
     "timestamp": 1688831533939,
     "user": {
      "displayName": "Harmanan Kohli",
      "userId": "00265911693355803981"
     },
     "user_tz": -330
    },
    "id": "a6552af8"
   },
   "outputs": [],
   "source": [
    "lyrics = []\n",
    "# for each row in the cleaned_text column\n",
    "for i  in df.cleaned_text:\n",
    "  # add the first 100 characters\n",
    "    lyrics.extend(i[:100])"
   ]
  },
  {
   "cell_type": "markdown",
   "id": "nWG7V578eaEw",
   "metadata": {
    "id": "nWG7V578eaEw"
   },
   "source": [
    "We are taking the first 100 characters from each song for vectorization.<br>**Using entire data causes the memory to overflow and the program crashes everytime.**"
   ]
  },
  {
   "cell_type": "code",
   "execution_count": 20,
   "id": "032c033e",
   "metadata": {
    "colab": {
     "base_uri": "https://localhost:8080/"
    },
    "executionInfo": {
     "elapsed": 4,
     "status": "ok",
     "timestamp": 1688831534402,
     "user": {
      "displayName": "Harmanan Kohli",
      "userId": "00265911693355803981"
     },
     "user_tz": -330
    },
    "id": "032c033e",
    "outputId": "1d1ee73d-f944-464d-e9ed-fc3d533e6a78"
   },
   "outputs": [
    {
     "name": "stdout",
     "output_type": "stream",
     "text": [
      "There are 39 unique characters in the lyrics column\n"
     ]
    }
   ],
   "source": [
    "# finding the unique characters in the dataset\n",
    "vocab = sorted(set(lyrics))\n",
    "print(\"There are\", len(vocab), \"unique characters in the lyrics column\")"
   ]
  },
  {
   "cell_type": "markdown",
   "id": "D8nuApsZfiTH",
   "metadata": {
    "id": "D8nuApsZfiTH"
   },
   "source": [
    "We can see we have 39 unique characters that we need to convert into numeric form so that can pass them as the input to the model"
   ]
  },
  {
   "cell_type": "markdown",
   "id": "r-1iRUiCf1IE",
   "metadata": {
    "id": "r-1iRUiCf1IE"
   },
   "source": [
    "Converting the text into numerical form"
   ]
  },
  {
   "cell_type": "code",
   "execution_count": 21,
   "id": "c5097550",
   "metadata": {
    "executionInfo": {
     "elapsed": 3,
     "status": "ok",
     "timestamp": 1688831534402,
     "user": {
      "displayName": "Harmanan Kohli",
      "userId": "00265911693355803981"
     },
     "user_tz": -330
    },
    "id": "c5097550"
   },
   "outputs": [],
   "source": [
    "# Create a mapping from character to unique index..\n",
    "char_to_int = {u:i for i, u in enumerate(vocab)}\n",
    "\n",
    "# Create a mapping from indices to characters. This is\n",
    "#   the inverse of char_to_ind and allows us to convert back\n",
    "#   from unique index to the character in our vocabulary.\n",
    "int_to_char = np.array(vocab)"
   ]
  },
  {
   "cell_type": "code",
   "execution_count": 22,
   "id": "e26a6e7c",
   "metadata": {
    "colab": {
     "base_uri": "https://localhost:8080/"
    },
    "executionInfo": {
     "elapsed": 4,
     "status": "ok",
     "timestamp": 1688831534403,
     "user": {
      "displayName": "Harmanan Kohli",
      "userId": "00265911693355803981"
     },
     "user_tz": -330
    },
    "id": "e26a6e7c",
    "outputId": "d4d594c4-b6bd-4ad5-f38d-d1f44fcf13e2"
   },
   "outputs": [
    {
     "name": "stdout",
     "output_type": "stream",
     "text": [
      "  : 0\n",
      "' : 1\n",
      ". : 2\n",
      "0 : 3\n",
      "1 : 4\n",
      "2 : 5\n",
      "3 : 6\n",
      "4 : 7\n",
      "5 : 8\n",
      "6 : 9\n"
     ]
    }
   ],
   "source": [
    "# Printing the first 10 character mapping\n",
    "for char,_ in zip(char_to_int, range(10)):\n",
    "    print(str(char)+\" : \"+ str(char_to_int[char]))"
   ]
  },
  {
   "cell_type": "code",
   "execution_count": 23,
   "id": "ab4abe7d",
   "metadata": {
    "executionInfo": {
     "elapsed": 463,
     "status": "ok",
     "timestamp": 1688831534863,
     "user": {
      "displayName": "Harmanan Kohli",
      "userId": "00265911693355803981"
     },
     "user_tz": -330
    },
    "id": "ab4abe7d"
   },
   "outputs": [],
   "source": [
    "def vectorize(lyrics):\n",
    "    \"\"\"function to vectorizing the text into its numeric representation\"\"\"\n",
    "    vect_lyrics = np.array([char_to_int[i] for i in lyrics])\n",
    "    return vect_lyrics\n",
    "vect_lyrics = vectorize(lyrics)"
   ]
  },
  {
   "cell_type": "code",
   "execution_count": 24,
   "id": "3e15036d",
   "metadata": {
    "colab": {
     "base_uri": "https://localhost:8080/"
    },
    "executionInfo": {
     "elapsed": 3,
     "status": "ok",
     "timestamp": 1688831534863,
     "user": {
      "displayName": "Harmanan Kohli",
      "userId": "00265911693355803981"
     },
     "user_tz": -330
    },
    "id": "3e15036d",
    "outputId": "6f2329b5-ed20-466b-d98c-67eb6461726f"
   },
   "outputs": [
    {
     "name": "stdout",
     "output_type": "stream",
     "text": [
      "['t', 'h', 'o', 'u', 'g', 'h', 't', ' ', 'i', ' '] is converted to [32 20 27 33 19 20 32  0 21  0]\n"
     ]
    }
   ],
   "source": [
    "print(str(lyrics[:10])+\" is converted to \" + str(vect_lyrics[:10]))"
   ]
  },
  {
   "cell_type": "markdown",
   "id": "LY_7kXmugDPH",
   "metadata": {
    "id": "LY_7kXmugDPH"
   },
   "source": [
    "We have mapped the characters to a unique number which will serve as numeric form and will be given as a input to the model"
   ]
  },
  {
   "cell_type": "markdown",
   "id": "bTUyZDMPYtce",
   "metadata": {
    "id": "bTUyZDMPYtce"
   },
   "source": [
    "### Splitting the data into features and target"
   ]
  },
  {
   "cell_type": "markdown",
   "id": "2SsrmErLgdcp",
   "metadata": {
    "id": "2SsrmErLgdcp"
   },
   "source": [
    "In this section we are splitting the data into features and targets"
   ]
  },
  {
   "cell_type": "code",
   "execution_count": 25,
   "id": "93572e32",
   "metadata": {
    "executionInfo": {
     "elapsed": 2045,
     "status": "ok",
     "timestamp": 1688831545369,
     "user": {
      "displayName": "Harmanan Kohli",
      "userId": "00265911693355803981"
     },
     "user_tz": -330
    },
    "id": "93572e32"
   },
   "outputs": [],
   "source": [
    "# prepare the dataset as input & output pairs encoded as integers\n",
    "seq_length = 50\n",
    "_x = []\n",
    "_y = []\n",
    "n = len(lyrics)\n",
    "# looping over the data\n",
    "for i in range(0,n-seq_length,1):\n",
    "  # getting the numeric form of the text of sequence length = 50\n",
    "    _in = vect_lyrics[i:i+seq_length]\n",
    "    # adding the output\n",
    "    _out = vect_lyrics[i+seq_length]\n",
    "    # adding the data into features\n",
    "    _x.append(_in)\n",
    "    # adding the output into target variable\n",
    "    _y.append(_out)"
   ]
  },
  {
   "cell_type": "markdown",
   "id": "N4HsQg54gm5A",
   "metadata": {
    "id": "N4HsQg54gm5A"
   },
   "source": [
    "Here we are taking the sequence length of 50 which will be given to the model and model will predict the next character as output"
   ]
  },
  {
   "cell_type": "markdown",
   "id": "12hhCkETg3aY",
   "metadata": {
    "id": "12hhCkETg3aY"
   },
   "source": [
    "Following code cells is just reshaping the features and targets into appropriate forms which can be given as input to the model"
   ]
  },
  {
   "cell_type": "code",
   "execution_count": 26,
   "id": "fa5d0f4c",
   "metadata": {
    "executionInfo": {
     "elapsed": 1652,
     "status": "ok",
     "timestamp": 1688831551587,
     "user": {
      "displayName": "Harmanan Kohli",
      "userId": "00265911693355803981"
     },
     "user_tz": -330
    },
    "id": "fa5d0f4c"
   },
   "outputs": [],
   "source": [
    "_x = np.reshape(_x, [len(_y), seq_length,1])"
   ]
  },
  {
   "cell_type": "code",
   "execution_count": 27,
   "id": "lKokmdXy6hpa",
   "metadata": {
    "colab": {
     "base_uri": "https://localhost:8080/"
    },
    "executionInfo": {
     "elapsed": 6,
     "status": "ok",
     "timestamp": 1688831553653,
     "user": {
      "displayName": "Harmanan Kohli",
      "userId": "00265911693355803981"
     },
     "user_tz": -330
    },
    "id": "lKokmdXy6hpa",
    "outputId": "70ab60f1-1e9c-40be-db18-29d3dbb9a350"
   },
   "outputs": [
    {
     "name": "stdout",
     "output_type": "stream",
     "text": [
      "[[32]\n",
      " [20]\n",
      " [27]\n",
      " [33]\n",
      " [19]\n",
      " [20]\n",
      " [32]\n",
      " [ 0]\n",
      " [21]\n",
      " [ 0]\n",
      " [ 1]\n",
      " [16]\n",
      " [ 0]\n",
      " [17]\n",
      " [26]\n",
      " [16]\n",
      " [ 0]\n",
      " [33]\n",
      " [28]\n",
      " [ 0]\n",
      " [35]\n",
      " [21]\n",
      " [32]\n",
      " [20]\n",
      " [ 0]\n",
      " [31]\n",
      " [17]\n",
      " [13]\n",
      " [26]\n",
      " [ 0]\n",
      " [14]\n",
      " [33]\n",
      " [32]\n",
      " [ 0]\n",
      " [20]\n",
      " [17]\n",
      " [ 0]\n",
      " [35]\n",
      " [13]\n",
      " [31]\n",
      " [26]\n",
      " [ 0]\n",
      " [ 1]\n",
      " [32]\n",
      " [ 0]\n",
      " [13]\n",
      " [ 0]\n",
      " [25]\n",
      " [13]\n",
      " [32]]\n"
     ]
    }
   ],
   "source": [
    "print(_x[0])"
   ]
  },
  {
   "cell_type": "markdown",
   "id": "adL0bv00NN1Q",
   "metadata": {
    "id": "adL0bv00NN1Q"
   },
   "source": [
    "We can see that the first features dataset is converted to numeric form and is different integers based on the character to interger converstion"
   ]
  },
  {
   "cell_type": "code",
   "execution_count": 28,
   "id": "HSac5d4qH_rd",
   "metadata": {
    "colab": {
     "base_uri": "https://localhost:8080/"
    },
    "executionInfo": {
     "elapsed": 379,
     "status": "ok",
     "timestamp": 1688831557760,
     "user": {
      "displayName": "Harmanan Kohli",
      "userId": "00265911693355803981"
     },
     "user_tz": -330
    },
    "id": "HSac5d4qH_rd",
    "outputId": "a2d51658-a891-4931-a40d-4df9390f3c5e"
   },
   "outputs": [
    {
     "name": "stdout",
     "output_type": "stream",
     "text": [
      "15\n"
     ]
    }
   ],
   "source": [
    "print(_y[0])"
   ]
  },
  {
   "cell_type": "code",
   "execution_count": 29,
   "id": "a29f323b",
   "metadata": {
    "executionInfo": {
     "elapsed": 661,
     "status": "ok",
     "timestamp": 1688831560081,
     "user": {
      "displayName": "Harmanan Kohli",
      "userId": "00265911693355803981"
     },
     "user_tz": -330
    },
    "id": "a29f323b"
   },
   "outputs": [],
   "source": [
    "# Normalizing the features\n",
    "X = (_x) / float(len(vocab))\n",
    "# Converting the target variable into categories\n",
    "Y = to_categorical(_y)"
   ]
  },
  {
   "cell_type": "code",
   "execution_count": 30,
   "id": "02529c27",
   "metadata": {
    "colab": {
     "base_uri": "https://localhost:8080/"
    },
    "executionInfo": {
     "elapsed": 4,
     "status": "ok",
     "timestamp": 1688831562111,
     "user": {
      "displayName": "Harmanan Kohli",
      "userId": "00265911693355803981"
     },
     "user_tz": -330
    },
    "id": "02529c27",
    "outputId": "db7a3a4d-a726-4c17-b9d2-d66e17c0b83b"
   },
   "outputs": [
    {
     "name": "stdout",
     "output_type": "stream",
     "text": [
      "[[0.82051282]\n",
      " [0.51282051]\n",
      " [0.69230769]\n",
      " [0.84615385]\n",
      " [0.48717949]\n",
      " [0.51282051]\n",
      " [0.82051282]\n",
      " [0.        ]\n",
      " [0.53846154]\n",
      " [0.        ]\n",
      " [0.02564103]\n",
      " [0.41025641]\n",
      " [0.        ]\n",
      " [0.43589744]\n",
      " [0.66666667]\n",
      " [0.41025641]\n",
      " [0.        ]\n",
      " [0.84615385]\n",
      " [0.71794872]\n",
      " [0.        ]\n",
      " [0.8974359 ]\n",
      " [0.53846154]\n",
      " [0.82051282]\n",
      " [0.51282051]\n",
      " [0.        ]\n",
      " [0.79487179]\n",
      " [0.43589744]\n",
      " [0.33333333]\n",
      " [0.66666667]\n",
      " [0.        ]\n",
      " [0.35897436]\n",
      " [0.84615385]\n",
      " [0.82051282]\n",
      " [0.        ]\n",
      " [0.51282051]\n",
      " [0.43589744]\n",
      " [0.        ]\n",
      " [0.8974359 ]\n",
      " [0.33333333]\n",
      " [0.79487179]\n",
      " [0.66666667]\n",
      " [0.        ]\n",
      " [0.02564103]\n",
      " [0.82051282]\n",
      " [0.        ]\n",
      " [0.33333333]\n",
      " [0.        ]\n",
      " [0.64102564]\n",
      " [0.33333333]\n",
      " [0.82051282]]\n"
     ]
    }
   ],
   "source": [
    "print(X[0])"
   ]
  },
  {
   "cell_type": "markdown",
   "id": "ensPdGDnNh9x",
   "metadata": {
    "id": "ensPdGDnNh9x"
   },
   "source": [
    "We have normalized the feaures dataset between 0 and 1 so that it is easy for the model to converge"
   ]
  },
  {
   "cell_type": "code",
   "execution_count": 31,
   "id": "4792db58",
   "metadata": {
    "colab": {
     "base_uri": "https://localhost:8080/"
    },
    "executionInfo": {
     "elapsed": 445,
     "status": "ok",
     "timestamp": 1688831565863,
     "user": {
      "displayName": "Harmanan Kohli",
      "userId": "00265911693355803981"
     },
     "user_tz": -330
    },
    "id": "4792db58",
    "outputId": "b299c491-decb-44a8-c2e4-d60cf729b29f"
   },
   "outputs": [
    {
     "data": {
      "text/plain": [
       "array([0., 0., 0., 0., 0., 0., 0., 0., 0., 0., 0., 0., 0., 0., 0., 1., 0.,\n",
       "       0., 0., 0., 0., 0., 0., 0., 0., 0., 0., 0., 0., 0., 0., 0., 0., 0.,\n",
       "       0., 0., 0., 0., 0.], dtype=float32)"
      ]
     },
     "execution_count": 31,
     "metadata": {},
     "output_type": "execute_result"
    }
   ],
   "source": [
    "Y[0]"
   ]
  },
  {
   "cell_type": "markdown",
   "id": "i2ciPbLZNr2t",
   "metadata": {
    "id": "i2ciPbLZNr2t"
   },
   "source": [
    "Target variable has been one hot encoded"
   ]
  },
  {
   "cell_type": "markdown",
   "id": "2u1Hyud1Y6WF",
   "metadata": {
    "id": "2u1Hyud1Y6WF"
   },
   "source": [
    "### Modeling"
   ]
  },
  {
   "cell_type": "markdown",
   "id": "oEkP7o33N2Hd",
   "metadata": {
    "id": "oEkP7o33N2Hd"
   },
   "source": [
    "We are using RNN and LSTM is a type of RNN. Model Architecture is also given below. As this will treated as classification task, we are using softmax function"
   ]
  },
  {
   "cell_type": "code",
   "execution_count": 32,
   "id": "379e4b62",
   "metadata": {
    "colab": {
     "base_uri": "https://localhost:8080/"
    },
    "executionInfo": {
     "elapsed": 1096,
     "status": "ok",
     "timestamp": 1688831877517,
     "user": {
      "displayName": "Harmanan Kohli",
      "userId": "00265911693355803981"
     },
     "user_tz": -330
    },
    "id": "379e4b62",
    "outputId": "d073cc88-18d1-4fa4-e488-b65b66d4bbf9"
   },
   "outputs": [
    {
     "name": "stdout",
     "output_type": "stream",
     "text": [
      "Model: \"sequential\"\n",
      "_________________________________________________________________\n",
      " Layer (type)                Output Shape              Param #   \n",
      "=================================================================\n",
      " lstm (LSTM)                 (None, 256)               264192    \n",
      "                                                                 \n",
      " dropout (Dropout)           (None, 256)               0         \n",
      "                                                                 \n",
      " dense (Dense)               (None, 39)                10023     \n",
      "                                                                 \n",
      "=================================================================\n",
      "Total params: 274,215\n",
      "Trainable params: 274,215\n",
      "Non-trainable params: 0\n",
      "_________________________________________________________________\n"
     ]
    }
   ],
   "source": [
    "# define the LSTM model\n",
    "model = Sequential()\n",
    "model.add(LSTM(256, input_shape=(X.shape[1], X.shape[2])))\n",
    "model.add(Dropout(0.2))\n",
    "model.add(Dense(Y.shape[1], activation='softmax'))\n",
    "model.summary()"
   ]
  },
  {
   "cell_type": "code",
   "execution_count": 33,
   "id": "OF6lgT5_QiM7",
   "metadata": {
    "colab": {
     "base_uri": "https://localhost:8080/",
     "height": 422
    },
    "executionInfo": {
     "elapsed": 948,
     "status": "ok",
     "timestamp": 1688832457268,
     "user": {
      "displayName": "Harmanan Kohli",
      "userId": "00265911693355803981"
     },
     "user_tz": -330
    },
    "id": "OF6lgT5_QiM7",
    "outputId": "1ed3d9ea-b8d9-434e-d927-aabd637106dc"
   },
   "outputs": [
    {
     "data": {
      "image/png": "[encoded data removed]",
      "text/plain": [
       "<IPython.core.display.Image object>"
      ]
     },
     "execution_count": 33,
     "metadata": {},
     "output_type": "execute_result"
    }
   ],
   "source": [
    "# Visualizing the model\n",
    "tf.keras.utils.plot_model(model, to_file=\"my_model.png\", show_shapes=True)"
   ]
  },
  {
   "cell_type": "code",
   "execution_count": 34,
   "id": "f5685b01",
   "metadata": {
    "executionInfo": {
     "elapsed": 492,
     "status": "ok",
     "timestamp": 1688832495116,
     "user": {
      "displayName": "Harmanan Kohli",
      "userId": "00265911693355803981"
     },
     "user_tz": -330
    },
    "id": "f5685b01"
   },
   "outputs": [],
   "source": [
    "model.compile(loss='categorical_crossentropy', optimizer='adam')"
   ]
  },
  {
   "cell_type": "markdown",
   "id": "M1MN2Y3jOYDS",
   "metadata": {
    "id": "M1MN2Y3jOYDS"
   },
   "source": [
    "For loss categorical crossentropy is taken and for optimizer we are taking adam optimizer"
   ]
  },
  {
   "cell_type": "code",
   "execution_count": 35,
   "id": "fbb9319a",
   "metadata": {
    "executionInfo": {
     "elapsed": 1,
     "status": "ok",
     "timestamp": 1688832499381,
     "user": {
      "displayName": "Harmanan Kohli",
      "userId": "00265911693355803981"
     },
     "user_tz": -330
    },
    "id": "fbb9319a"
   },
   "outputs": [],
   "source": [
    "# define the checkpoint\n",
    "from tensorflow.keras.callbacks import ModelCheckpoint\n",
    "filepath=\"weights-improvement-{epoch:02d}-{loss:.4f}.hdf5\"\n",
    "checkpoint = ModelCheckpoint(filepath, monitor='loss', verbose=1, save_best_only=True, mode='min')\n",
    "callbacks_list = [checkpoint]"
   ]
  },
  {
   "cell_type": "markdown",
   "id": "UHN1F2MGPN-r",
   "metadata": {
    "id": "UHN1F2MGPN-r"
   },
   "source": [
    "Here we are using callbacks.Callbacks are used for application checkpointing which is a fault tolerance technique for long-running processes. In checkpointing a snapshot of the state of the system is taken in case of system failure. If there is a problem, the checkpoint may be used directly or as the starting point for a new run, picking up where it left off."
   ]
  },
  {
   "cell_type": "markdown",
   "id": "LTLx0Ut9ZJBI",
   "metadata": {
    "id": "LTLx0Ut9ZJBI"
   },
   "source": [
    "### Training the model"
   ]
  },
  {
   "cell_type": "markdown",
   "id": "1599d200",
   "metadata": {},
   "source": [
    "Model had run in the earlier notebook run and as it takes hours to run so we have not ran it again but saved the model and its history so that it can be used later. This is done due to the problem of timeout in Google colab."
   ]
  },
  {
   "cell_type": "code",
   "execution_count": null,
   "id": "42b3981c",
   "metadata": {
    "colab": {
     "base_uri": "https://localhost:8080/"
    },
    "id": "42b3981c",
    "outputId": "6edc3a00-0416-40e5-8453-f455eaabab3a"
   },
   "outputs": [
    {
     "name": "stdout",
     "output_type": "stream",
     "text": [
      "Epoch 1/10\n",
      "10700/10700 [==============================] - ETA: 0s - loss: 2.5281\n",
      "Epoch 1: loss improved from inf to 2.52812, saving model to weights-improvement-01-2.5281.hdf5\n",
      "10700/10700 [==============================] - 3259s 304ms/step - loss: 2.5281 - val_loss: 2.3904\n",
      "Epoch 2/10\n",
      "10700/10700 [==============================] - ETA: 0s - loss: 2.3041\n",
      "Epoch 2: loss improved from 2.52812 to 2.30408, saving model to weights-improvement-02-2.3041.hdf5\n",
      "10700/10700 [==============================] - 3245s 303ms/step - loss: 2.3041 - val_loss: 2.2729\n",
      "Epoch 3/10\n",
      "10700/10700 [==============================] - ETA: 0s - loss: 2.1958\n",
      "Epoch 3: loss improved from 2.30408 to 2.19584, saving model to weights-improvement-03-2.1958.hdf5\n",
      "10700/10700 [==============================] - 3246s 303ms/step - loss: 2.1958 - val_loss: 2.1703\n",
      "Epoch 4/10\n",
      "10700/10700 [==============================] - ETA: 0s - loss: 2.1170\n",
      "Epoch 4: loss improved from 2.19584 to 2.11699, saving model to weights-improvement-04-2.1170.hdf5\n",
      "10700/10700 [==============================] - 3214s 300ms/step - loss: 2.1170 - val_loss: 2.1004\n",
      "Epoch 5/10\n",
      "10700/10700 [==============================] - ETA: 0s - loss: 2.0563\n",
      "Epoch 5: loss improved from 2.11699 to 2.05631, saving model to weights-improvement-05-2.0563.hdf5\n",
      "10700/10700 [==============================] - 3216s 301ms/step - loss: 2.0563 - val_loss: 2.0462\n",
      "Epoch 6/10\n",
      "10700/10700 [==============================] - ETA: 0s - loss: 2.0103\n",
      "Epoch 6: loss improved from 2.05631 to 2.01025, saving model to weights-improvement-06-2.0103.hdf5\n",
      "10700/10700 [==============================] - 3185s 298ms/step - loss: 2.0103 - val_loss: 2.0097\n",
      "Epoch 7/10\n",
      "10700/10700 [==============================] - ETA: 0s - loss: 1.9749\n",
      "Epoch 7: loss improved from 2.01025 to 1.97488, saving model to weights-improvement-07-1.9749.hdf5\n",
      "10700/10700 [==============================] - 3207s 300ms/step - loss: 1.9749 - val_loss: 1.9755\n",
      "Epoch 8/10\n",
      "10700/10700 [==============================] - ETA: 0s - loss: 1.9613\n",
      "Epoch 8: loss improved from 1.97488 to 1.96125, saving model to weights-improvement-08-1.9613.hdf5\n",
      "10700/10700 [==============================] - 3186s 298ms/step - loss: 1.9613 - val_loss: 1.9604\n",
      "Epoch 9/10\n",
      "10700/10700 [==============================] - ETA: 0s - loss: 1.9298\n",
      "Epoch 9: loss improved from 1.96125 to 1.92976, saving model to weights-improvement-09-1.9298.hdf5\n",
      "10700/10700 [==============================] - 3202s 299ms/step - loss: 1.9298 - val_loss: 1.9366\n",
      "Epoch 10/10\n",
      "10700/10700 [==============================] - ETA: 0s - loss: 1.9100\n",
      "Epoch 10: loss improved from 1.92976 to 1.90996, saving model to weights-improvement-10-1.9100.hdf5\n",
      "10700/10700 [==============================] - 3235s 302ms/step - loss: 1.9100 - val_loss: 1.9338\n"
     ]
    }
   ],
   "source": [
    "history = model.fit(X, Y, epochs=10, batch_size=128, callbacks=callbacks_list, validation_split = 0.30, verbose = 1)"
   ]
  },
  {
   "cell_type": "markdown",
   "id": "RWMZmiBVZMVx",
   "metadata": {
    "id": "RWMZmiBVZMVx"
   },
   "source": [
    "### Saving the model"
   ]
  },
  {
   "cell_type": "code",
   "execution_count": 36,
   "id": "5a1fbd4a",
   "metadata": {
    "executionInfo": {
     "elapsed": 538,
     "status": "ok",
     "timestamp": 1688832532501,
     "user": {
      "displayName": "Harmanan Kohli",
      "userId": "00265911693355803981"
     },
     "user_tz": -330
    },
    "id": "5a1fbd4a"
   },
   "outputs": [],
   "source": [
    "#model.save('model.h5')"
   ]
  },
  {
   "cell_type": "markdown",
   "id": "gk5BNaGRk8LB",
   "metadata": {
    "id": "gk5BNaGRk8LB"
   },
   "source": [
    "Model was saved as the training time took very long time"
   ]
  },
  {
   "cell_type": "code",
   "execution_count": 37,
   "id": "P1zaJUD2VYbA",
   "metadata": {
    "executionInfo": {
     "elapsed": 719,
     "status": "ok",
     "timestamp": 1688832533732,
     "user": {
      "displayName": "Harmanan Kohli",
      "userId": "00265911693355803981"
     },
     "user_tz": -330
    },
    "id": "P1zaJUD2VYbA"
   },
   "outputs": [],
   "source": [
    "#hist_df = pd.DataFrame(history.history)\n",
    "#hist_csv_file = 'performance.csv'\n",
    "#with open(hist_csv_file, mode='w') as f:\n",
    "#    hist_df.to_csv(f)"
   ]
  },
  {
   "cell_type": "markdown",
   "id": "MxlCg_2QlJg_",
   "metadata": {
    "id": "MxlCg_2QlJg_"
   },
   "source": [
    "Saving the history into csv so that it can be later used for performance analysis"
   ]
  },
  {
   "cell_type": "markdown",
   "id": "SJEPidanZT_t",
   "metadata": {
    "id": "SJEPidanZT_t"
   },
   "source": [
    "### Loading the model for prediction"
   ]
  },
  {
   "cell_type": "code",
   "execution_count": 38,
   "id": "CprOAoZJSUZI",
   "metadata": {
    "executionInfo": {
     "elapsed": 1646,
     "status": "ok",
     "timestamp": 1688832544940,
     "user": {
      "displayName": "Harmanan Kohli",
      "userId": "00265911693355803981"
     },
     "user_tz": -330
    },
    "id": "CprOAoZJSUZI"
   },
   "outputs": [],
   "source": [
    "# load model\n",
    "from keras.models import load_model\n",
    "model = load_model('/content/drive/MyDrive/Colab Notebooks/NLP/model.h5', compile=False)"
   ]
  },
  {
   "cell_type": "code",
   "execution_count": 39,
   "id": "nHBYd-sYSXmr",
   "metadata": {
    "executionInfo": {
     "elapsed": 825,
     "status": "ok",
     "timestamp": 1688832548538,
     "user": {
      "displayName": "Harmanan Kohli",
      "userId": "00265911693355803981"
     },
     "user_tz": -330
    },
    "id": "nHBYd-sYSXmr"
   },
   "outputs": [],
   "source": [
    "model.compile(loss='categorical_crossentropy', optimizer='adam')"
   ]
  },
  {
   "cell_type": "markdown",
   "id": "Z_B4KOHleAVg",
   "metadata": {
    "id": "Z_B4KOHleAVg"
   },
   "source": [
    "### Prediction done by the model"
   ]
  },
  {
   "cell_type": "code",
   "execution_count": 40,
   "id": "AuX6Z_BLS5pP",
   "metadata": {
    "executionInfo": {
     "elapsed": 506,
     "status": "ok",
     "timestamp": 1688832553676,
     "user": {
      "displayName": "Harmanan Kohli",
      "userId": "00265911693355803981"
     },
     "user_tz": -330
    },
    "id": "AuX6Z_BLS5pP"
   },
   "outputs": [],
   "source": [
    "def generate_chars(input, length):\n",
    "  \"\"\"Function used for predicting the song lyrics based on the input\"\"\"\n",
    "  try:\n",
    "    # defining the sequence length\n",
    "    seq_length = 50\n",
    "    output = []\n",
    "    # making sure that the input text is fully pre-processed\n",
    "    input = preprocessing(input)\n",
    "    # defining scenarios for inputs of different lengths\n",
    "    # model can take input only of sequence length as it has been trained on that sequence length\n",
    "    # input length > sequence length\n",
    "    if len(input) > seq_length:\n",
    "      # adding the input to the output list\n",
    "      output.append(input)\n",
    "      # getting the length from where the input should be taken\n",
    "      n = len(input) - seq_length\n",
    "      # defining the input of seq_length\n",
    "      input = input[n:]\n",
    "      # making sure that the input text is fully pre-processed\n",
    "      ip = preprocessing(input)\n",
    "    # input length < sequence length\n",
    "    elif len(input) < seq_length:\n",
    "       # adding the input to the output list\n",
    "      output.append(input)\n",
    "      # making sure that the input text is fully pre-processed\n",
    "      ip = preprocessing(input)\n",
    "       # defining the input of seq_length\n",
    "      ip = ip.rjust(50,\" \")\n",
    "    # input length == sequence length\n",
    "    else:\n",
    "       # adding the input to the output list\n",
    "      output.append(input)\n",
    "      # making sure that the input text is fully pre-processed\n",
    "      ip = preprocessing(input)\n",
    "    # printing the output taken by model as input\n",
    "    print(input)\n",
    "    # converting the text into its numeric form\n",
    "    ip = vectorize(ip)\n",
    "    # reshaping the data into required format so that it can be given to the model\n",
    "    x_ip = np.reshape(ip,(1,seq_length,1))\n",
    "    # normalizing the input data\n",
    "    x_ip = x_ip / len(vocab)\n",
    "    # looping till we get the output till required character length\n",
    "    for i in range(0,length,1):\n",
    "      # getting the prediction which is in the form of probabilities\n",
    "      y_prob = model.predict(x_ip)\n",
    "      # getting the max value from the probabilities\n",
    "      y_pred = y_prob.argmax(axis = 1)\n",
    "      # appending the predicted character to the output list\n",
    "      output.extend(int_to_char[y_pred])\n",
    "      # normalizing the predicted text which is in its numeric form\n",
    "      norm = y_pred / len(vocab)\n",
    "      # adding the prediction to the input data and making sure that the input is of length 50\n",
    "      x_ip = np.reshape((np.append(x_ip,norm)[1:]),(1,seq_length,1))\n",
    "    # returning the output\n",
    "    return output\n",
    "  except:\n",
    "    print(\"An error occured. Please try with another song_id\")"
   ]
  },
  {
   "cell_type": "code",
   "execution_count": 45,
   "id": "pHLMywVCfaAn",
   "metadata": {
    "colab": {
     "base_uri": "https://localhost:8080/"
    },
    "executionInfo": {
     "elapsed": 45325,
     "status": "ok",
     "timestamp": 1688832685599,
     "user": {
      "displayName": "Harmanan Kohli",
      "userId": "00265911693355803981"
     },
     "user_tz": -330
    },
    "id": "pHLMywVCfaAn",
    "outputId": "98877705-26d5-4a3b-d8c4-9cbf1da0ee6d"
   },
   "outputs": [
    {
     "name": "stdout",
     "output_type": "stream",
     "text": [
      "The function will take the sequence length of 50 as the model is trained on it. So the input taken by the model is:\n",
      "0 thought i 'd end up with sean but ...\n",
      "1/1 [==============================] - 0s 58ms/step\n",
      "1/1 [==============================] - 0s 56ms/step\n",
      "1/1 [==============================] - 0s 53ms/step\n",
      "1/1 [==============================] - 0s 41ms/step\n",
      "1/1 [==============================] - 0s 31ms/step\n",
      "1/1 [==============================] - 0s 30ms/step\n",
      "1/1 [==============================] - 0s 29ms/step\n",
      "1/1 [==============================] - 0s 26ms/step\n",
      "1/1 [==============================] - 0s 30ms/step\n",
      "1/1 [==============================] - 0s 25ms/step\n",
      "1/1 [==============================] - 0s 28ms/step\n",
      "1/1 [==============================] - 0s 37ms/step\n",
      "1/1 [==============================] - 0s 26ms/step\n",
      "1/1 [==============================] - 0s 28ms/step\n",
      "1/1 [==============================] - 0s 26ms/step\n",
      "1/1 [==============================] - 0s 29ms/step\n",
      "1/1 [==============================] - 0s 27ms/step\n",
      "1/1 [==============================] - 0s 29ms/step\n",
      "1/1 [==============================] - 0s 30ms/step\n",
      "1/1 [==============================] - 0s 28ms/step\n",
      "1/1 [==============================] - 0s 32ms/step\n",
      "1/1 [==============================] - 0s 30ms/step\n",
      "1/1 [==============================] - 0s 26ms/step\n",
      "1/1 [==============================] - 0s 26ms/step\n",
      "1/1 [==============================] - 0s 27ms/step\n",
      "1/1 [==============================] - 0s 28ms/step\n",
      "1/1 [==============================] - 0s 30ms/step\n",
      "1/1 [==============================] - 0s 30ms/step\n",
      "1/1 [==============================] - 0s 30ms/step\n",
      "1/1 [==============================] - 0s 27ms/step\n",
      "1/1 [==============================] - 0s 26ms/step\n",
      "1/1 [==============================] - 0s 31ms/step\n",
      "1/1 [==============================] - 0s 28ms/step\n",
      "1/1 [==============================] - 0s 26ms/step\n",
      "1/1 [==============================] - 0s 27ms/step\n",
      "1/1 [==============================] - 0s 29ms/step\n",
      "1/1 [==============================] - 0s 31ms/step\n",
      "1/1 [==============================] - 0s 30ms/step\n",
      "1/1 [==============================] - 0s 30ms/step\n",
      "1/1 [==============================] - 0s 28ms/step\n",
      "1/1 [==============================] - 0s 30ms/step\n",
      "1/1 [==============================] - 0s 27ms/step\n",
      "1/1 [==============================] - 0s 27ms/step\n",
      "1/1 [==============================] - 0s 27ms/step\n",
      "1/1 [==============================] - 0s 30ms/step\n",
      "1/1 [==============================] - 0s 27ms/step\n",
      "1/1 [==============================] - 0s 30ms/step\n",
      "1/1 [==============================] - 0s 28ms/step\n",
      "1/1 [==============================] - 0s 27ms/step\n",
      "1/1 [==============================] - 0s 26ms/step\n",
      "1/1 [==============================] - 0s 26ms/step\n",
      "1/1 [==============================] - 0s 27ms/step\n",
      "1/1 [==============================] - 0s 33ms/step\n",
      "1/1 [==============================] - 0s 27ms/step\n",
      "1/1 [==============================] - 0s 29ms/step\n",
      "1/1 [==============================] - 0s 29ms/step\n",
      "1/1 [==============================] - 0s 32ms/step\n",
      "1/1 [==============================] - 0s 27ms/step\n",
      "1/1 [==============================] - 0s 38ms/step\n",
      "1/1 [==============================] - 0s 26ms/step\n",
      "1/1 [==============================] - 0s 29ms/step\n",
      "1/1 [==============================] - 0s 26ms/step\n",
      "1/1 [==============================] - 0s 31ms/step\n",
      "1/1 [==============================] - 0s 28ms/step\n",
      "1/1 [==============================] - 0s 28ms/step\n",
      "1/1 [==============================] - 0s 25ms/step\n",
      "1/1 [==============================] - 0s 26ms/step\n",
      "1/1 [==============================] - 0s 28ms/step\n",
      "1/1 [==============================] - 0s 30ms/step\n",
      "1/1 [==============================] - 0s 27ms/step\n",
      "1/1 [==============================] - 0s 32ms/step\n",
      "1/1 [==============================] - 0s 29ms/step\n",
      "1/1 [==============================] - 0s 38ms/step\n",
      "1/1 [==============================] - 0s 28ms/step\n",
      "1/1 [==============================] - 0s 27ms/step\n",
      "1/1 [==============================] - 0s 27ms/step\n",
      "1/1 [==============================] - 0s 28ms/step\n",
      "1/1 [==============================] - 0s 27ms/step\n",
      "1/1 [==============================] - 0s 29ms/step\n",
      "1/1 [==============================] - 0s 27ms/step\n",
      "1/1 [==============================] - 0s 27ms/step\n",
      "1/1 [==============================] - 0s 29ms/step\n",
      "1/1 [==============================] - 0s 27ms/step\n",
      "1/1 [==============================] - 0s 27ms/step\n",
      "1/1 [==============================] - 0s 31ms/step\n",
      "1/1 [==============================] - 0s 29ms/step\n",
      "1/1 [==============================] - 0s 27ms/step\n",
      "1/1 [==============================] - 0s 29ms/step\n",
      "1/1 [==============================] - 0s 28ms/step\n",
      "1/1 [==============================] - 0s 27ms/step\n",
      "1/1 [==============================] - 0s 28ms/step\n",
      "1/1 [==============================] - 0s 31ms/step\n",
      "1/1 [==============================] - 0s 31ms/step\n",
      "1/1 [==============================] - 0s 28ms/step\n",
      "1/1 [==============================] - 0s 28ms/step\n",
      "1/1 [==============================] - 0s 27ms/step\n",
      "1/1 [==============================] - 0s 26ms/step\n",
      "1/1 [==============================] - 0s 26ms/step\n",
      "1/1 [==============================] - 0s 31ms/step\n",
      "1/1 [==============================] - 0s 38ms/step\n",
      "1/1 [==============================] - 0s 28ms/step\n",
      "1/1 [==============================] - 0s 26ms/step\n",
      "1/1 [==============================] - 0s 26ms/step\n",
      "1/1 [==============================] - 0s 28ms/step\n",
      "1/1 [==============================] - 0s 27ms/step\n",
      "1/1 [==============================] - 0s 28ms/step\n",
      "1/1 [==============================] - 0s 27ms/step\n",
      "1/1 [==============================] - 0s 33ms/step\n",
      "1/1 [==============================] - 0s 26ms/step\n",
      "1/1 [==============================] - 0s 28ms/step\n",
      "1/1 [==============================] - 0s 33ms/step\n",
      "1/1 [==============================] - 0s 27ms/step\n",
      "1/1 [==============================] - 0s 27ms/step\n",
      "1/1 [==============================] - 0s 28ms/step\n",
      "1/1 [==============================] - 0s 27ms/step\n",
      "1/1 [==============================] - 0s 35ms/step\n",
      "1/1 [==============================] - 0s 43ms/step\n",
      "1/1 [==============================] - 0s 40ms/step\n",
      "1/1 [==============================] - 0s 39ms/step\n",
      "1/1 [==============================] - 0s 49ms/step\n",
      "1/1 [==============================] - 0s 253ms/step\n",
      "1/1 [==============================] - 0s 38ms/step\n",
      "1/1 [==============================] - 0s 45ms/step\n",
      "1/1 [==============================] - 0s 41ms/step\n",
      "1/1 [==============================] - 0s 41ms/step\n",
      "1/1 [==============================] - 0s 83ms/step\n",
      "1/1 [==============================] - 0s 240ms/step\n",
      "1/1 [==============================] - 0s 47ms/step\n",
      "1/1 [==============================] - 0s 46ms/step\n",
      "1/1 [==============================] - 0s 51ms/step\n",
      "1/1 [==============================] - 0s 46ms/step\n",
      "1/1 [==============================] - 0s 221ms/step\n",
      "1/1 [==============================] - 0s 43ms/step\n",
      "1/1 [==============================] - 0s 40ms/step\n",
      "1/1 [==============================] - 0s 43ms/step\n",
      "1/1 [==============================] - 0s 40ms/step\n",
      "1/1 [==============================] - 0s 42ms/step\n",
      "1/1 [==============================] - 0s 45ms/step\n",
      "1/1 [==============================] - 0s 45ms/step\n",
      "1/1 [==============================] - 0s 38ms/step\n",
      "1/1 [==============================] - 0s 41ms/step\n",
      "1/1 [==============================] - 0s 40ms/step\n",
      "1/1 [==============================] - 0s 43ms/step\n",
      "1/1 [==============================] - 0s 34ms/step\n",
      "1/1 [==============================] - 0s 30ms/step\n",
      "1/1 [==============================] - 0s 30ms/step\n",
      "1/1 [==============================] - 0s 27ms/step\n",
      "1/1 [==============================] - 0s 29ms/step\n",
      "1/1 [==============================] - 0s 29ms/step\n",
      "1/1 [==============================] - 0s 34ms/step\n",
      "1/1 [==============================] - 0s 32ms/step\n",
      "1/1 [==============================] - 0s 30ms/step\n",
      "1/1 [==============================] - 0s 32ms/step\n",
      "1/1 [==============================] - 0s 32ms/step\n",
      "1/1 [==============================] - 0s 35ms/step\n",
      "1/1 [==============================] - 0s 30ms/step\n",
      "1/1 [==============================] - 0s 34ms/step\n",
      "1/1 [==============================] - 0s 30ms/step\n",
      "1/1 [==============================] - 0s 33ms/step\n",
      "1/1 [==============================] - 0s 32ms/step\n",
      "1/1 [==============================] - 0s 30ms/step\n",
      "1/1 [==============================] - 0s 33ms/step\n",
      "1/1 [==============================] - 0s 33ms/step\n",
      "1/1 [==============================] - 0s 35ms/step\n",
      "1/1 [==============================] - 0s 37ms/step\n",
      "1/1 [==============================] - 0s 34ms/step\n",
      "1/1 [==============================] - 0s 33ms/step\n",
      "1/1 [==============================] - 0s 31ms/step\n",
      "1/1 [==============================] - 0s 32ms/step\n",
      "1/1 [==============================] - 0s 35ms/step\n",
      "1/1 [==============================] - 0s 37ms/step\n",
      "1/1 [==============================] - 0s 31ms/step\n",
      "1/1 [==============================] - 0s 31ms/step\n",
      "1/1 [==============================] - 0s 31ms/step\n",
      "1/1 [==============================] - 0s 29ms/step\n",
      "1/1 [==============================] - 0s 27ms/step\n",
      "1/1 [==============================] - 0s 28ms/step\n",
      "1/1 [==============================] - 0s 26ms/step\n",
      "1/1 [==============================] - 0s 28ms/step\n",
      "1/1 [==============================] - 0s 28ms/step\n",
      "1/1 [==============================] - 0s 29ms/step\n",
      "1/1 [==============================] - 0s 31ms/step\n",
      "1/1 [==============================] - 0s 26ms/step\n",
      "1/1 [==============================] - 0s 33ms/step\n",
      "1/1 [==============================] - 0s 33ms/step\n",
      "1/1 [==============================] - 0s 26ms/step\n",
      "1/1 [==============================] - 0s 27ms/step\n",
      "1/1 [==============================] - 0s 30ms/step\n",
      "1/1 [==============================] - 0s 37ms/step\n",
      "1/1 [==============================] - 0s 30ms/step\n",
      "1/1 [==============================] - 0s 32ms/step\n",
      "1/1 [==============================] - 0s 32ms/step\n",
      "1/1 [==============================] - 0s 33ms/step\n",
      "1/1 [==============================] - 0s 30ms/step\n",
      "1/1 [==============================] - 0s 31ms/step\n",
      "1/1 [==============================] - 0s 30ms/step\n",
      "1/1 [==============================] - 0s 36ms/step\n",
      "1/1 [==============================] - 0s 33ms/step\n",
      "1/1 [==============================] - 0s 30ms/step\n",
      "1/1 [==============================] - 0s 29ms/step\n",
      "1/1 [==============================] - 0s 29ms/step\n",
      "1/1 [==============================] - 0s 33ms/step\n",
      "1/1 [==============================] - 0s 31ms/step\n",
      "1/1 [==============================] - 0s 31ms/step\n",
      "1/1 [==============================] - 0s 30ms/step\n",
      "1/1 [==============================] - 0s 40ms/step\n",
      "1/1 [==============================] - 0s 32ms/step\n",
      "1/1 [==============================] - 0s 32ms/step\n",
      "1/1 [==============================] - 0s 31ms/step\n",
      "1/1 [==============================] - 0s 32ms/step\n",
      "1/1 [==============================] - 0s 29ms/step\n",
      "1/1 [==============================] - 0s 26ms/step\n",
      "1/1 [==============================] - 0s 27ms/step\n",
      "1/1 [==============================] - 0s 29ms/step\n",
      "1/1 [==============================] - 0s 31ms/step\n",
      "1/1 [==============================] - 0s 27ms/step\n",
      "1/1 [==============================] - 0s 29ms/step\n",
      "1/1 [==============================] - 0s 26ms/step\n",
      "1/1 [==============================] - 0s 28ms/step\n",
      "1/1 [==============================] - 0s 28ms/step\n",
      "1/1 [==============================] - 0s 26ms/step\n",
      "1/1 [==============================] - 0s 28ms/step\n",
      "1/1 [==============================] - 0s 28ms/step\n",
      "1/1 [==============================] - 0s 30ms/step\n",
      "1/1 [==============================] - 0s 32ms/step\n",
      "1/1 [==============================] - 0s 32ms/step\n",
      "1/1 [==============================] - 0s 34ms/step\n",
      "1/1 [==============================] - 0s 29ms/step\n",
      "1/1 [==============================] - 0s 46ms/step\n",
      "1/1 [==============================] - 0s 33ms/step\n",
      "1/1 [==============================] - 0s 39ms/step\n",
      "1/1 [==============================] - 0s 33ms/step\n",
      "1/1 [==============================] - 0s 35ms/step\n",
      "1/1 [==============================] - 0s 34ms/step\n",
      "1/1 [==============================] - 0s 34ms/step\n",
      "1/1 [==============================] - 0s 40ms/step\n",
      "1/1 [==============================] - 0s 37ms/step\n",
      "1/1 [==============================] - 0s 33ms/step\n",
      "1/1 [==============================] - 0s 38ms/step\n",
      "1/1 [==============================] - 0s 39ms/step\n",
      "1/1 [==============================] - 0s 40ms/step\n",
      "1/1 [==============================] - 0s 36ms/step\n",
      "1/1 [==============================] - 0s 35ms/step\n",
      "1/1 [==============================] - 0s 34ms/step\n",
      "1/1 [==============================] - 0s 38ms/step\n",
      "1/1 [==============================] - 0s 29ms/step\n",
      "1/1 [==============================] - 0s 27ms/step\n",
      "1/1 [==============================] - 0s 31ms/step\n",
      "1/1 [==============================] - 0s 28ms/step\n",
      "1/1 [==============================] - 0s 31ms/step\n",
      "1/1 [==============================] - 0s 33ms/step\n",
      "1/1 [==============================] - 0s 28ms/step\n",
      "1/1 [==============================] - 0s 27ms/step\n",
      "1/1 [==============================] - 0s 26ms/step\n",
      "1/1 [==============================] - 0s 27ms/step\n",
      "1/1 [==============================] - 0s 26ms/step\n",
      "1/1 [==============================] - 0s 27ms/step\n",
      "1/1 [==============================] - 0s 27ms/step\n",
      "1/1 [==============================] - 0s 37ms/step\n",
      "1/1 [==============================] - 0s 27ms/step\n",
      "1/1 [==============================] - 0s 28ms/step\n",
      "1/1 [==============================] - 0s 41ms/step\n",
      "1/1 [==============================] - 0s 46ms/step\n",
      "1/1 [==============================] - 0s 39ms/step\n",
      "1/1 [==============================] - 0s 41ms/step\n",
      "1/1 [==============================] - 0s 44ms/step\n",
      "1/1 [==============================] - 0s 39ms/step\n",
      "1/1 [==============================] - 0s 50ms/step\n",
      "1/1 [==============================] - 0s 41ms/step\n",
      "1/1 [==============================] - 0s 41ms/step\n",
      "1/1 [==============================] - 0s 41ms/step\n",
      "1/1 [==============================] - 0s 44ms/step\n",
      "1/1 [==============================] - 0s 42ms/step\n",
      "1/1 [==============================] - 0s 40ms/step\n",
      "1/1 [==============================] - 0s 39ms/step\n",
      "1/1 [==============================] - 0s 40ms/step\n",
      "1/1 [==============================] - 0s 42ms/step\n",
      "1/1 [==============================] - 0s 38ms/step\n",
      "1/1 [==============================] - 0s 41ms/step\n",
      "1/1 [==============================] - 0s 40ms/step\n",
      "1/1 [==============================] - 0s 40ms/step\n",
      "1/1 [==============================] - 0s 40ms/step\n",
      "1/1 [==============================] - 0s 39ms/step\n",
      "1/1 [==============================] - 0s 40ms/step\n",
      "1/1 [==============================] - 0s 38ms/step\n",
      "1/1 [==============================] - 0s 40ms/step\n",
      "1/1 [==============================] - 0s 39ms/step\n",
      "1/1 [==============================] - 0s 38ms/step\n",
      "1/1 [==============================] - 0s 44ms/step\n",
      "1/1 [==============================] - 0s 43ms/step\n",
      "1/1 [==============================] - 0s 45ms/step\n",
      "1/1 [==============================] - 0s 49ms/step\n",
      "1/1 [==============================] - 0s 47ms/step\n",
      "1/1 [==============================] - 0s 44ms/step\n",
      "1/1 [==============================] - 0s 51ms/step\n",
      "1/1 [==============================] - 0s 50ms/step\n",
      "1/1 [==============================] - 0s 49ms/step\n",
      "1/1 [==============================] - 0s 53ms/step\n",
      "1/1 [==============================] - 0s 37ms/step\n",
      "1/1 [==============================] - 0s 26ms/step\n",
      "1/1 [==============================] - 0s 26ms/step\n",
      "1/1 [==============================] - 0s 29ms/step\n",
      "1/1 [==============================] - 0s 28ms/step\n",
      "1/1 [==============================] - 0s 26ms/step\n",
      "1/1 [==============================] - 0s 30ms/step\n",
      "1/1 [==============================] - 0s 26ms/step\n",
      "1/1 [==============================] - 0s 26ms/step\n",
      "1/1 [==============================] - 0s 29ms/step\n",
      "1/1 [==============================] - 0s 25ms/step\n",
      "1/1 [==============================] - 0s 31ms/step\n",
      "1/1 [==============================] - 0s 29ms/step\n",
      "1/1 [==============================] - 0s 27ms/step\n",
      "1/1 [==============================] - 0s 30ms/step\n",
      "1/1 [==============================] - 0s 27ms/step\n",
      "1/1 [==============================] - 0s 26ms/step\n",
      "1/1 [==============================] - 0s 30ms/step\n",
      "1/1 [==============================] - 0s 29ms/step\n",
      "1/1 [==============================] - 0s 28ms/step\n",
      "1/1 [==============================] - 0s 26ms/step\n",
      "1/1 [==============================] - 0s 31ms/step\n",
      "1/1 [==============================] - 0s 30ms/step\n",
      "1/1 [==============================] - 0s 29ms/step\n",
      "1/1 [==============================] - 0s 32ms/step\n",
      "1/1 [==============================] - 0s 30ms/step\n",
      "1/1 [==============================] - 0s 29ms/step\n",
      "1/1 [==============================] - 0s 29ms/step\n",
      "1/1 [==============================] - 0s 25ms/step\n",
      "1/1 [==============================] - 0s 26ms/step\n",
      "1/1 [==============================] - 0s 32ms/step\n",
      "1/1 [==============================] - 0s 27ms/step\n",
      "1/1 [==============================] - 0s 31ms/step\n",
      "1/1 [==============================] - 0s 30ms/step\n",
      "1/1 [==============================] - 0s 27ms/step\n",
      "1/1 [==============================] - 0s 26ms/step\n",
      "1/1 [==============================] - 0s 26ms/step\n",
      "1/1 [==============================] - 0s 27ms/step\n",
      "1/1 [==============================] - 0s 28ms/step\n",
      "1/1 [==============================] - 0s 31ms/step\n",
      "1/1 [==============================] - 0s 27ms/step\n",
      "1/1 [==============================] - 0s 29ms/step\n",
      "1/1 [==============================] - 0s 26ms/step\n",
      "1/1 [==============================] - 0s 28ms/step\n",
      "1/1 [==============================] - 0s 28ms/step\n",
      "1/1 [==============================] - 0s 33ms/step\n",
      "1/1 [==============================] - 0s 26ms/step\n",
      "1/1 [==============================] - 0s 26ms/step\n",
      "1/1 [==============================] - 0s 26ms/step\n",
      "1/1 [==============================] - 0s 35ms/step\n",
      "1/1 [==============================] - 0s 26ms/step\n",
      "1/1 [==============================] - 0s 31ms/step\n",
      "1/1 [==============================] - 0s 33ms/step\n",
      "1/1 [==============================] - 0s 28ms/step\n",
      "1/1 [==============================] - 0s 29ms/step\n",
      "1/1 [==============================] - 0s 25ms/step\n",
      "1/1 [==============================] - 0s 28ms/step\n",
      "1/1 [==============================] - 0s 32ms/step\n",
      "1/1 [==============================] - 0s 30ms/step\n",
      "1/1 [==============================] - 0s 28ms/step\n",
      "1/1 [==============================] - 0s 26ms/step\n",
      "1/1 [==============================] - 0s 27ms/step\n",
      "1/1 [==============================] - 0s 29ms/step\n",
      "1/1 [==============================] - 0s 27ms/step\n",
      "1/1 [==============================] - 0s 30ms/step\n",
      "1/1 [==============================] - 0s 28ms/step\n",
      "1/1 [==============================] - 0s 28ms/step\n",
      "1/1 [==============================] - 0s 28ms/step\n",
      "1/1 [==============================] - 0s 28ms/step\n",
      "1/1 [==============================] - 0s 37ms/step\n",
      "1/1 [==============================] - 0s 28ms/step\n",
      "1/1 [==============================] - 0s 27ms/step\n",
      "1/1 [==============================] - 0s 26ms/step\n",
      "1/1 [==============================] - 0s 26ms/step\n",
      "1/1 [==============================] - 0s 28ms/step\n",
      "1/1 [==============================] - 0s 26ms/step\n",
      "1/1 [==============================] - 0s 29ms/step\n",
      "1/1 [==============================] - 0s 27ms/step\n",
      "1/1 [==============================] - 0s 28ms/step\n",
      "1/1 [==============================] - 0s 27ms/step\n",
      "1/1 [==============================] - 0s 31ms/step\n",
      "1/1 [==============================] - 0s 27ms/step\n",
      "1/1 [==============================] - 0s 26ms/step\n",
      "1/1 [==============================] - 0s 28ms/step\n",
      "1/1 [==============================] - 0s 28ms/step\n",
      "1/1 [==============================] - 0s 33ms/step\n",
      "1/1 [==============================] - 0s 28ms/step\n",
      "1/1 [==============================] - 0s 28ms/step\n",
      "1/1 [==============================] - 0s 26ms/step\n",
      "1/1 [==============================] - 0s 27ms/step\n",
      "1/1 [==============================] - 0s 27ms/step\n",
      "1/1 [==============================] - 0s 30ms/step\n",
      "1/1 [==============================] - 0s 31ms/step\n",
      "1/1 [==============================] - 0s 28ms/step\n",
      "1/1 [==============================] - 0s 26ms/step\n",
      "1/1 [==============================] - 0s 27ms/step\n",
      "1/1 [==============================] - 0s 28ms/step\n",
      "1/1 [==============================] - 0s 26ms/step\n",
      "1/1 [==============================] - 0s 27ms/step\n",
      "1/1 [==============================] - 0s 27ms/step\n",
      "1/1 [==============================] - 0s 31ms/step\n",
      "1/1 [==============================] - 0s 27ms/step\n",
      "1/1 [==============================] - 0s 28ms/step\n",
      "1/1 [==============================] - 0s 28ms/step\n",
      "1/1 [==============================] - 0s 32ms/step\n",
      "1/1 [==============================] - 0s 32ms/step\n",
      "1/1 [==============================] - 0s 32ms/step\n",
      "1/1 [==============================] - 0s 34ms/step\n",
      "1/1 [==============================] - 0s 31ms/step\n",
      "1/1 [==============================] - 0s 33ms/step\n",
      "1/1 [==============================] - 0s 34ms/step\n",
      "1/1 [==============================] - 0s 32ms/step\n",
      "1/1 [==============================] - 0s 31ms/step\n",
      "1/1 [==============================] - 0s 30ms/step\n",
      "1/1 [==============================] - 0s 30ms/step\n",
      "1/1 [==============================] - 0s 30ms/step\n",
      "1/1 [==============================] - 0s 33ms/step\n",
      "1/1 [==============================] - 0s 42ms/step\n",
      "1/1 [==============================] - 0s 31ms/step\n",
      "1/1 [==============================] - 0s 29ms/step\n",
      "1/1 [==============================] - 0s 36ms/step\n",
      "1/1 [==============================] - 0s 32ms/step\n",
      "1/1 [==============================] - 0s 38ms/step\n",
      "1/1 [==============================] - 0s 29ms/step\n",
      "1/1 [==============================] - 0s 33ms/step\n",
      "1/1 [==============================] - 0s 37ms/step\n",
      "1/1 [==============================] - 0s 37ms/step\n",
      "1/1 [==============================] - 0s 29ms/step\n",
      "1/1 [==============================] - 0s 45ms/step\n",
      "1/1 [==============================] - 0s 60ms/step\n",
      "1/1 [==============================] - 0s 46ms/step\n",
      "1/1 [==============================] - 0s 47ms/step\n",
      "1/1 [==============================] - 0s 42ms/step\n",
      "1/1 [==============================] - 0s 47ms/step\n",
      "1/1 [==============================] - 0s 44ms/step\n",
      "1/1 [==============================] - 0s 44ms/step\n",
      "1/1 [==============================] - 0s 44ms/step\n",
      "1/1 [==============================] - 0s 45ms/step\n",
      "1/1 [==============================] - 0s 47ms/step\n",
      "1/1 [==============================] - 0s 49ms/step\n",
      "1/1 [==============================] - 0s 54ms/step\n",
      "1/1 [==============================] - 0s 45ms/step\n",
      "1/1 [==============================] - 0s 43ms/step\n",
      "1/1 [==============================] - 0s 52ms/step\n",
      "1/1 [==============================] - 0s 55ms/step\n",
      "1/1 [==============================] - 0s 39ms/step\n",
      "1/1 [==============================] - 0s 39ms/step\n",
      "1/1 [==============================] - 0s 45ms/step\n",
      "1/1 [==============================] - 0s 43ms/step\n",
      "1/1 [==============================] - 0s 40ms/step\n",
      "1/1 [==============================] - 0s 43ms/step\n",
      "1/1 [==============================] - 0s 49ms/step\n",
      "1/1 [==============================] - 0s 38ms/step\n",
      "1/1 [==============================] - 0s 54ms/step\n",
      "1/1 [==============================] - 0s 43ms/step\n",
      "1/1 [==============================] - 0s 53ms/step\n",
      "1/1 [==============================] - 0s 47ms/step\n",
      "1/1 [==============================] - 0s 48ms/step\n",
      "1/1 [==============================] - 0s 48ms/step\n",
      "1/1 [==============================] - 0s 49ms/step\n",
      "1/1 [==============================] - 0s 43ms/step\n",
      "1/1 [==============================] - 0s 47ms/step\n",
      "1/1 [==============================] - 0s 28ms/step\n",
      "1/1 [==============================] - 0s 27ms/step\n",
      "1/1 [==============================] - 0s 26ms/step\n",
      "1/1 [==============================] - 0s 26ms/step\n",
      "1/1 [==============================] - 0s 27ms/step\n",
      "1/1 [==============================] - 0s 26ms/step\n",
      "1/1 [==============================] - 0s 28ms/step\n",
      "1/1 [==============================] - 0s 31ms/step\n",
      "1/1 [==============================] - 0s 26ms/step\n",
      "1/1 [==============================] - 0s 27ms/step\n",
      "1/1 [==============================] - 0s 28ms/step\n",
      "1/1 [==============================] - 0s 29ms/step\n",
      "1/1 [==============================] - 0s 28ms/step\n",
      "1/1 [==============================] - 0s 34ms/step\n",
      "1/1 [==============================] - 0s 28ms/step\n",
      "1/1 [==============================] - 0s 27ms/step\n",
      "1/1 [==============================] - 0s 28ms/step\n",
      "1/1 [==============================] - 0s 26ms/step\n",
      "1/1 [==============================] - 0s 36ms/step\n",
      "1/1 [==============================] - 0s 25ms/step\n",
      "1/1 [==============================] - 0s 26ms/step\n",
      "1/1 [==============================] - 0s 32ms/step\n",
      "1/1 [==============================] - 0s 26ms/step\n",
      "1/1 [==============================] - 0s 25ms/step\n",
      "1/1 [==============================] - 0s 30ms/step\n",
      "1/1 [==============================] - 0s 31ms/step\n",
      "1/1 [==============================] - 0s 29ms/step\n",
      "1/1 [==============================] - 0s 31ms/step\n",
      "1/1 [==============================] - 0s 38ms/step\n",
      "1/1 [==============================] - 0s 36ms/step\n",
      "1/1 [==============================] - 0s 37ms/step\n",
      "1/1 [==============================] - 0s 34ms/step\n",
      "1/1 [==============================] - 0s 32ms/step\n",
      "1/1 [==============================] - 0s 31ms/step\n",
      "1/1 [==============================] - 0s 32ms/step\n",
      "1/1 [==============================] - 0s 31ms/step\n",
      "1/1 [==============================] - 0s 26ms/step\n",
      "1/1 [==============================] - 0s 30ms/step\n",
      "1/1 [==============================] - 0s 33ms/step\n",
      "1/1 [==============================] - 0s 29ms/step\n"
     ]
    }
   ],
   "source": [
    "# prediction using the input given based on the song_id\n",
    "input = df[df.song_id == \"3e9HZxeyfWwjeyPAMmWSSQ\"].lyrics.to_string()\n",
    "print(\"The function will take the sequence length of 50 as the model is trained on it. So the input taken by the model is:\")\n",
    "# Generating the lyrics by adding more 500 chars\n",
    "output = generate_chars(input,500)"
   ]
  },
  {
   "cell_type": "code",
   "execution_count": 46,
   "id": "KKdbpRjmj0c3",
   "metadata": {
    "colab": {
     "base_uri": "https://localhost:8080/"
    },
    "executionInfo": {
     "elapsed": 505,
     "status": "ok",
     "timestamp": 1688832691051,
     "user": {
      "displayName": "Harmanan Kohli",
      "userId": "00265911693355803981"
     },
     "user_tz": -330
    },
    "id": "KKdbpRjmj0c3",
    "outputId": "ec43af37-2d9a-4080-f153-104044259327"
   },
   "outputs": [
    {
     "name": "stdout",
     "output_type": "stream",
     "text": [
      "The lyrics generated by the model is:\n",
      "0 thought i 'd end up with sean but ... io the soon if you want to be to the world of the world io the mird wood on the say the world in the morning io the soog of the world in the mird wood on the say the world in the morning io the soog of the world in the mird wood on the say the world in the morning io the soog of the world in the mird wood on the say the world in the morning io the soog of the world in the mird wood on the say the world in the morning io the soog of the world in the mird wood on the say the world in the morning "
     ]
    }
   ],
   "source": [
    "print(\"The lyrics generated by the model is:\")\n",
    "for i in output:\n",
    "  print(i, end=\"\")"
   ]
  },
  {
   "cell_type": "markdown",
   "id": "qEWQOBZvd4Qu",
   "metadata": {
    "id": "qEWQOBZvd4Qu"
   },
   "source": [
    "### Performance Analysis"
   ]
  },
  {
   "cell_type": "code",
   "execution_count": 47,
   "id": "tHlWc6RId9ok",
   "metadata": {
    "colab": {
     "base_uri": "https://localhost:8080/",
     "height": 489
    },
    "executionInfo": {
     "elapsed": 1363,
     "status": "ok",
     "timestamp": 1688832723625,
     "user": {
      "displayName": "Harmanan Kohli",
      "userId": "00265911693355803981"
     },
     "user_tz": -330
    },
    "id": "tHlWc6RId9ok",
    "outputId": "720d8c2d-e826-4764-c15c-ed5942886442"
   },
   "outputs": [
    {
     "data": {
      "text/plain": [
       "<matplotlib.legend.Legend at 0x7f001fc14790>"
      ]
     },
     "execution_count": 47,
     "metadata": {},
     "output_type": "execute_result"
    },
    {
     "data": {
      "image/png": "[encoded data removed]",
      "text/plain": [
       "<Figure size 640x480 with 1 Axes>"
      ]
     },
     "metadata": {},
     "output_type": "display_data"
    }
   ],
   "source": [
    "# plotting the performance of the model by showing the training loss and validation loss against the epochs\n",
    "\n",
    "_plotdf = pd.read_csv(\"/content/drive/MyDrive/Colab Notebooks/NLP/performance.csv\")\n",
    "plt.plot(_plotdf[\"loss\"], label=\"Training\")\n",
    "plt.plot(_plotdf[\"val_loss\"], label=\"Validation\")\n",
    "plt.title(\"Training Loss and Validation Loss\")\n",
    "plt.xlabel(\"Epoch\")\n",
    "plt.ylabel(\"Loss value\")\n",
    "plt.legend()\n"
   ]
  },
  {
   "cell_type": "markdown",
   "id": "3hWFpzYiF6BJ",
   "metadata": {
    "id": "3hWFpzYiF6BJ"
   },
   "source": [
    "By looking at the lyrics generated by the model, we see that it is outputting some correct words but the sentences have no meaning.\n",
    "Primary reason is that we are only using 100 characters for training in each row and model is trained only on 10 epochs.\n",
    "The dataset is extremely big to be trained on any personal computer, therefore we have to make some compromise with the training and accuracy.\n",
    "However we see that the loss is decreasing with the increasing epochs, and we cannot train it further due to hardware challenges.\n"
   ]
  }
 ],
 "metadata": {
  "colab": {
   "collapsed_sections": [
    "HRfDbhnzX5vN",
    "iReNARE4YKTx",
    "eMlhvJo_YTuS",
    "T9twQtQuYkfz",
    "bTUyZDMPYtce",
    "2u1Hyud1Y6WF",
    "LTLx0Ut9ZJBI",
    "SJEPidanZT_t"
   ],
   "provenance": []
  },
  "kernelspec": {
   "display_name": "Python 3 (ipykernel)",
   "language": "python",
   "name": "python3"
  },
  "language_info": {
   "codemirror_mode": {
    "name": "ipython",
    "version": 3
   },
   "file_extension": ".py",
   "mimetype": "text/x-python",
   "name": "python",
   "nbconvert_exporter": "python",
   "pygments_lexer": "ipython3",
   "version": "3.10.9"
  }
 },
 "nbformat": 4,
 "nbformat_minor": 5
}
